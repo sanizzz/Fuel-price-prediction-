{
  "cells": [
    {
      "cell_type": "markdown",
      "id": "ddffac1b",
      "metadata": {
        "id": "ddffac1b",
        "papermill": {
          "duration": 0.007201,
          "end_time": "2024-04-26T15:46:15.501422",
          "exception": false,
          "start_time": "2024-04-26T15:46:15.494221",
          "status": "completed"
        },
        "tags": []
      },
      "source": [
        "Note: COEMISSIONS has a training space so 'COEMISSIONS '"
      ]
    },
    {
      "cell_type": "markdown",
      "id": "8bc20212",
      "metadata": {
        "id": "8bc20212",
        "papermill": {
          "duration": 0.00598,
          "end_time": "2024-04-26T15:46:15.514271",
          "exception": false,
          "start_time": "2024-04-26T15:46:15.508291",
          "status": "completed"
        },
        "tags": []
      },
      "source": [
        "# Data Collection and Exploratory Data Analysis"
      ]
    },
    {
      "cell_type": "code",
      "execution_count": 1,
      "id": "f2fa73a6",
      "metadata": {
        "execution": {
          "iopub.execute_input": "2024-04-26T15:46:15.528927Z",
          "iopub.status.busy": "2024-04-26T15:46:15.528220Z",
          "iopub.status.idle": "2024-04-26T15:46:18.045158Z",
          "shell.execute_reply": "2024-04-26T15:46:18.043774Z"
        },
        "id": "f2fa73a6",
        "papermill": {
          "duration": 2.527994,
          "end_time": "2024-04-26T15:46:18.048363",
          "exception": false,
          "start_time": "2024-04-26T15:46:15.520369",
          "status": "completed"
        },
        "tags": []
      },
      "outputs": [],
      "source": [
        "import pandas as pd\n",
        "import numpy as np\n",
        "import matplotlib.pyplot as plt\n",
        "import seaborn as sns\n",
        "import warnings\n",
        "warnings.filterwarnings(\"ignore\")"
      ]
    },
    {
      "cell_type": "code",
      "execution_count": 2,
      "id": "b0619279",
      "metadata": {
        "colab": {
          "base_uri": "https://localhost:8080/",
          "height": 206
        },
        "execution": {
          "iopub.execute_input": "2024-04-26T15:46:18.062628Z",
          "iopub.status.busy": "2024-04-26T15:46:18.062085Z",
          "iopub.status.idle": "2024-04-26T15:46:18.122606Z",
          "shell.execute_reply": "2024-04-26T15:46:18.121263Z"
        },
        "id": "b0619279",
        "outputId": "e5f0c06b-28d3-460c-d3ad-779f76cf83bf",
        "papermill": {
          "duration": 0.070249,
          "end_time": "2024-04-26T15:46:18.124933",
          "exception": false,
          "start_time": "2024-04-26T15:46:18.054684",
          "status": "completed"
        },
        "tags": []
      },
      "outputs": [
        {
          "ename": "FileNotFoundError",
          "evalue": "[Errno 2] No such file or directory: '/content/FuelConsumption (1).csv'",
          "output_type": "error",
          "traceback": [
            "\u001b[1;31m---------------------------------------------------------------------------\u001b[0m",
            "\u001b[1;31mFileNotFoundError\u001b[0m                         Traceback (most recent call last)",
            "Cell \u001b[1;32mIn[2], line 1\u001b[0m\n\u001b[1;32m----> 1\u001b[0m data \u001b[38;5;241m=\u001b[39m \u001b[43mpd\u001b[49m\u001b[38;5;241;43m.\u001b[39;49m\u001b[43mread_csv\u001b[49m\u001b[43m(\u001b[49m\u001b[38;5;124;43m'\u001b[39;49m\u001b[38;5;124;43m/content/FuelConsumption (1).csv\u001b[39;49m\u001b[38;5;124;43m'\u001b[39;49m\u001b[43m)\u001b[49m\n\u001b[0;32m      2\u001b[0m data\u001b[38;5;241m.\u001b[39mhead()\n",
            "File \u001b[1;32m~\\AppData\\Local\\Packages\\PythonSoftwareFoundation.Python.3.11_qbz5n2kfra8p0\\LocalCache\\local-packages\\Python311\\site-packages\\pandas\\io\\parsers\\readers.py:1026\u001b[0m, in \u001b[0;36mread_csv\u001b[1;34m(filepath_or_buffer, sep, delimiter, header, names, index_col, usecols, dtype, engine, converters, true_values, false_values, skipinitialspace, skiprows, skipfooter, nrows, na_values, keep_default_na, na_filter, verbose, skip_blank_lines, parse_dates, infer_datetime_format, keep_date_col, date_parser, date_format, dayfirst, cache_dates, iterator, chunksize, compression, thousands, decimal, lineterminator, quotechar, quoting, doublequote, escapechar, comment, encoding, encoding_errors, dialect, on_bad_lines, delim_whitespace, low_memory, memory_map, float_precision, storage_options, dtype_backend)\u001b[0m\n\u001b[0;32m   1013\u001b[0m kwds_defaults \u001b[38;5;241m=\u001b[39m _refine_defaults_read(\n\u001b[0;32m   1014\u001b[0m     dialect,\n\u001b[0;32m   1015\u001b[0m     delimiter,\n\u001b[1;32m   (...)\u001b[0m\n\u001b[0;32m   1022\u001b[0m     dtype_backend\u001b[38;5;241m=\u001b[39mdtype_backend,\n\u001b[0;32m   1023\u001b[0m )\n\u001b[0;32m   1024\u001b[0m kwds\u001b[38;5;241m.\u001b[39mupdate(kwds_defaults)\n\u001b[1;32m-> 1026\u001b[0m \u001b[38;5;28;01mreturn\u001b[39;00m \u001b[43m_read\u001b[49m\u001b[43m(\u001b[49m\u001b[43mfilepath_or_buffer\u001b[49m\u001b[43m,\u001b[49m\u001b[43m \u001b[49m\u001b[43mkwds\u001b[49m\u001b[43m)\u001b[49m\n",
            "File \u001b[1;32m~\\AppData\\Local\\Packages\\PythonSoftwareFoundation.Python.3.11_qbz5n2kfra8p0\\LocalCache\\local-packages\\Python311\\site-packages\\pandas\\io\\parsers\\readers.py:620\u001b[0m, in \u001b[0;36m_read\u001b[1;34m(filepath_or_buffer, kwds)\u001b[0m\n\u001b[0;32m    617\u001b[0m _validate_names(kwds\u001b[38;5;241m.\u001b[39mget(\u001b[38;5;124m\"\u001b[39m\u001b[38;5;124mnames\u001b[39m\u001b[38;5;124m\"\u001b[39m, \u001b[38;5;28;01mNone\u001b[39;00m))\n\u001b[0;32m    619\u001b[0m \u001b[38;5;66;03m# Create the parser.\u001b[39;00m\n\u001b[1;32m--> 620\u001b[0m parser \u001b[38;5;241m=\u001b[39m \u001b[43mTextFileReader\u001b[49m\u001b[43m(\u001b[49m\u001b[43mfilepath_or_buffer\u001b[49m\u001b[43m,\u001b[49m\u001b[43m \u001b[49m\u001b[38;5;241;43m*\u001b[39;49m\u001b[38;5;241;43m*\u001b[39;49m\u001b[43mkwds\u001b[49m\u001b[43m)\u001b[49m\n\u001b[0;32m    622\u001b[0m \u001b[38;5;28;01mif\u001b[39;00m chunksize \u001b[38;5;129;01mor\u001b[39;00m iterator:\n\u001b[0;32m    623\u001b[0m     \u001b[38;5;28;01mreturn\u001b[39;00m parser\n",
            "File \u001b[1;32m~\\AppData\\Local\\Packages\\PythonSoftwareFoundation.Python.3.11_qbz5n2kfra8p0\\LocalCache\\local-packages\\Python311\\site-packages\\pandas\\io\\parsers\\readers.py:1620\u001b[0m, in \u001b[0;36mTextFileReader.__init__\u001b[1;34m(self, f, engine, **kwds)\u001b[0m\n\u001b[0;32m   1617\u001b[0m     \u001b[38;5;28mself\u001b[39m\u001b[38;5;241m.\u001b[39moptions[\u001b[38;5;124m\"\u001b[39m\u001b[38;5;124mhas_index_names\u001b[39m\u001b[38;5;124m\"\u001b[39m] \u001b[38;5;241m=\u001b[39m kwds[\u001b[38;5;124m\"\u001b[39m\u001b[38;5;124mhas_index_names\u001b[39m\u001b[38;5;124m\"\u001b[39m]\n\u001b[0;32m   1619\u001b[0m \u001b[38;5;28mself\u001b[39m\u001b[38;5;241m.\u001b[39mhandles: IOHandles \u001b[38;5;241m|\u001b[39m \u001b[38;5;28;01mNone\u001b[39;00m \u001b[38;5;241m=\u001b[39m \u001b[38;5;28;01mNone\u001b[39;00m\n\u001b[1;32m-> 1620\u001b[0m \u001b[38;5;28mself\u001b[39m\u001b[38;5;241m.\u001b[39m_engine \u001b[38;5;241m=\u001b[39m \u001b[38;5;28;43mself\u001b[39;49m\u001b[38;5;241;43m.\u001b[39;49m\u001b[43m_make_engine\u001b[49m\u001b[43m(\u001b[49m\u001b[43mf\u001b[49m\u001b[43m,\u001b[49m\u001b[43m \u001b[49m\u001b[38;5;28;43mself\u001b[39;49m\u001b[38;5;241;43m.\u001b[39;49m\u001b[43mengine\u001b[49m\u001b[43m)\u001b[49m\n",
            "File \u001b[1;32m~\\AppData\\Local\\Packages\\PythonSoftwareFoundation.Python.3.11_qbz5n2kfra8p0\\LocalCache\\local-packages\\Python311\\site-packages\\pandas\\io\\parsers\\readers.py:1880\u001b[0m, in \u001b[0;36mTextFileReader._make_engine\u001b[1;34m(self, f, engine)\u001b[0m\n\u001b[0;32m   1878\u001b[0m     \u001b[38;5;28;01mif\u001b[39;00m \u001b[38;5;124m\"\u001b[39m\u001b[38;5;124mb\u001b[39m\u001b[38;5;124m\"\u001b[39m \u001b[38;5;129;01mnot\u001b[39;00m \u001b[38;5;129;01min\u001b[39;00m mode:\n\u001b[0;32m   1879\u001b[0m         mode \u001b[38;5;241m+\u001b[39m\u001b[38;5;241m=\u001b[39m \u001b[38;5;124m\"\u001b[39m\u001b[38;5;124mb\u001b[39m\u001b[38;5;124m\"\u001b[39m\n\u001b[1;32m-> 1880\u001b[0m \u001b[38;5;28mself\u001b[39m\u001b[38;5;241m.\u001b[39mhandles \u001b[38;5;241m=\u001b[39m \u001b[43mget_handle\u001b[49m\u001b[43m(\u001b[49m\n\u001b[0;32m   1881\u001b[0m \u001b[43m    \u001b[49m\u001b[43mf\u001b[49m\u001b[43m,\u001b[49m\n\u001b[0;32m   1882\u001b[0m \u001b[43m    \u001b[49m\u001b[43mmode\u001b[49m\u001b[43m,\u001b[49m\n\u001b[0;32m   1883\u001b[0m \u001b[43m    \u001b[49m\u001b[43mencoding\u001b[49m\u001b[38;5;241;43m=\u001b[39;49m\u001b[38;5;28;43mself\u001b[39;49m\u001b[38;5;241;43m.\u001b[39;49m\u001b[43moptions\u001b[49m\u001b[38;5;241;43m.\u001b[39;49m\u001b[43mget\u001b[49m\u001b[43m(\u001b[49m\u001b[38;5;124;43m\"\u001b[39;49m\u001b[38;5;124;43mencoding\u001b[39;49m\u001b[38;5;124;43m\"\u001b[39;49m\u001b[43m,\u001b[49m\u001b[43m \u001b[49m\u001b[38;5;28;43;01mNone\u001b[39;49;00m\u001b[43m)\u001b[49m\u001b[43m,\u001b[49m\n\u001b[0;32m   1884\u001b[0m \u001b[43m    \u001b[49m\u001b[43mcompression\u001b[49m\u001b[38;5;241;43m=\u001b[39;49m\u001b[38;5;28;43mself\u001b[39;49m\u001b[38;5;241;43m.\u001b[39;49m\u001b[43moptions\u001b[49m\u001b[38;5;241;43m.\u001b[39;49m\u001b[43mget\u001b[49m\u001b[43m(\u001b[49m\u001b[38;5;124;43m\"\u001b[39;49m\u001b[38;5;124;43mcompression\u001b[39;49m\u001b[38;5;124;43m\"\u001b[39;49m\u001b[43m,\u001b[49m\u001b[43m \u001b[49m\u001b[38;5;28;43;01mNone\u001b[39;49;00m\u001b[43m)\u001b[49m\u001b[43m,\u001b[49m\n\u001b[0;32m   1885\u001b[0m \u001b[43m    \u001b[49m\u001b[43mmemory_map\u001b[49m\u001b[38;5;241;43m=\u001b[39;49m\u001b[38;5;28;43mself\u001b[39;49m\u001b[38;5;241;43m.\u001b[39;49m\u001b[43moptions\u001b[49m\u001b[38;5;241;43m.\u001b[39;49m\u001b[43mget\u001b[49m\u001b[43m(\u001b[49m\u001b[38;5;124;43m\"\u001b[39;49m\u001b[38;5;124;43mmemory_map\u001b[39;49m\u001b[38;5;124;43m\"\u001b[39;49m\u001b[43m,\u001b[49m\u001b[43m \u001b[49m\u001b[38;5;28;43;01mFalse\u001b[39;49;00m\u001b[43m)\u001b[49m\u001b[43m,\u001b[49m\n\u001b[0;32m   1886\u001b[0m \u001b[43m    \u001b[49m\u001b[43mis_text\u001b[49m\u001b[38;5;241;43m=\u001b[39;49m\u001b[43mis_text\u001b[49m\u001b[43m,\u001b[49m\n\u001b[0;32m   1887\u001b[0m \u001b[43m    \u001b[49m\u001b[43merrors\u001b[49m\u001b[38;5;241;43m=\u001b[39;49m\u001b[38;5;28;43mself\u001b[39;49m\u001b[38;5;241;43m.\u001b[39;49m\u001b[43moptions\u001b[49m\u001b[38;5;241;43m.\u001b[39;49m\u001b[43mget\u001b[49m\u001b[43m(\u001b[49m\u001b[38;5;124;43m\"\u001b[39;49m\u001b[38;5;124;43mencoding_errors\u001b[39;49m\u001b[38;5;124;43m\"\u001b[39;49m\u001b[43m,\u001b[49m\u001b[43m \u001b[49m\u001b[38;5;124;43m\"\u001b[39;49m\u001b[38;5;124;43mstrict\u001b[39;49m\u001b[38;5;124;43m\"\u001b[39;49m\u001b[43m)\u001b[49m\u001b[43m,\u001b[49m\n\u001b[0;32m   1888\u001b[0m \u001b[43m    \u001b[49m\u001b[43mstorage_options\u001b[49m\u001b[38;5;241;43m=\u001b[39;49m\u001b[38;5;28;43mself\u001b[39;49m\u001b[38;5;241;43m.\u001b[39;49m\u001b[43moptions\u001b[49m\u001b[38;5;241;43m.\u001b[39;49m\u001b[43mget\u001b[49m\u001b[43m(\u001b[49m\u001b[38;5;124;43m\"\u001b[39;49m\u001b[38;5;124;43mstorage_options\u001b[39;49m\u001b[38;5;124;43m\"\u001b[39;49m\u001b[43m,\u001b[49m\u001b[43m \u001b[49m\u001b[38;5;28;43;01mNone\u001b[39;49;00m\u001b[43m)\u001b[49m\u001b[43m,\u001b[49m\n\u001b[0;32m   1889\u001b[0m \u001b[43m\u001b[49m\u001b[43m)\u001b[49m\n\u001b[0;32m   1890\u001b[0m \u001b[38;5;28;01massert\u001b[39;00m \u001b[38;5;28mself\u001b[39m\u001b[38;5;241m.\u001b[39mhandles \u001b[38;5;129;01mis\u001b[39;00m \u001b[38;5;129;01mnot\u001b[39;00m \u001b[38;5;28;01mNone\u001b[39;00m\n\u001b[0;32m   1891\u001b[0m f \u001b[38;5;241m=\u001b[39m \u001b[38;5;28mself\u001b[39m\u001b[38;5;241m.\u001b[39mhandles\u001b[38;5;241m.\u001b[39mhandle\n",
            "File \u001b[1;32m~\\AppData\\Local\\Packages\\PythonSoftwareFoundation.Python.3.11_qbz5n2kfra8p0\\LocalCache\\local-packages\\Python311\\site-packages\\pandas\\io\\common.py:873\u001b[0m, in \u001b[0;36mget_handle\u001b[1;34m(path_or_buf, mode, encoding, compression, memory_map, is_text, errors, storage_options)\u001b[0m\n\u001b[0;32m    868\u001b[0m \u001b[38;5;28;01melif\u001b[39;00m \u001b[38;5;28misinstance\u001b[39m(handle, \u001b[38;5;28mstr\u001b[39m):\n\u001b[0;32m    869\u001b[0m     \u001b[38;5;66;03m# Check whether the filename is to be opened in binary mode.\u001b[39;00m\n\u001b[0;32m    870\u001b[0m     \u001b[38;5;66;03m# Binary mode does not support 'encoding' and 'newline'.\u001b[39;00m\n\u001b[0;32m    871\u001b[0m     \u001b[38;5;28;01mif\u001b[39;00m ioargs\u001b[38;5;241m.\u001b[39mencoding \u001b[38;5;129;01mand\u001b[39;00m \u001b[38;5;124m\"\u001b[39m\u001b[38;5;124mb\u001b[39m\u001b[38;5;124m\"\u001b[39m \u001b[38;5;129;01mnot\u001b[39;00m \u001b[38;5;129;01min\u001b[39;00m ioargs\u001b[38;5;241m.\u001b[39mmode:\n\u001b[0;32m    872\u001b[0m         \u001b[38;5;66;03m# Encoding\u001b[39;00m\n\u001b[1;32m--> 873\u001b[0m         handle \u001b[38;5;241m=\u001b[39m \u001b[38;5;28;43mopen\u001b[39;49m\u001b[43m(\u001b[49m\n\u001b[0;32m    874\u001b[0m \u001b[43m            \u001b[49m\u001b[43mhandle\u001b[49m\u001b[43m,\u001b[49m\n\u001b[0;32m    875\u001b[0m \u001b[43m            \u001b[49m\u001b[43mioargs\u001b[49m\u001b[38;5;241;43m.\u001b[39;49m\u001b[43mmode\u001b[49m\u001b[43m,\u001b[49m\n\u001b[0;32m    876\u001b[0m \u001b[43m            \u001b[49m\u001b[43mencoding\u001b[49m\u001b[38;5;241;43m=\u001b[39;49m\u001b[43mioargs\u001b[49m\u001b[38;5;241;43m.\u001b[39;49m\u001b[43mencoding\u001b[49m\u001b[43m,\u001b[49m\n\u001b[0;32m    877\u001b[0m \u001b[43m            \u001b[49m\u001b[43merrors\u001b[49m\u001b[38;5;241;43m=\u001b[39;49m\u001b[43merrors\u001b[49m\u001b[43m,\u001b[49m\n\u001b[0;32m    878\u001b[0m \u001b[43m            \u001b[49m\u001b[43mnewline\u001b[49m\u001b[38;5;241;43m=\u001b[39;49m\u001b[38;5;124;43m\"\u001b[39;49m\u001b[38;5;124;43m\"\u001b[39;49m\u001b[43m,\u001b[49m\n\u001b[0;32m    879\u001b[0m \u001b[43m        \u001b[49m\u001b[43m)\u001b[49m\n\u001b[0;32m    880\u001b[0m     \u001b[38;5;28;01melse\u001b[39;00m:\n\u001b[0;32m    881\u001b[0m         \u001b[38;5;66;03m# Binary mode\u001b[39;00m\n\u001b[0;32m    882\u001b[0m         handle \u001b[38;5;241m=\u001b[39m \u001b[38;5;28mopen\u001b[39m(handle, ioargs\u001b[38;5;241m.\u001b[39mmode)\n",
            "\u001b[1;31mFileNotFoundError\u001b[0m: [Errno 2] No such file or directory: '/content/FuelConsumption (1).csv'"
          ]
        }
      ],
      "source": [
        "data = pd.read_csv('/content/FuelConsumption (1).csv')\n",
        "data.head()"
      ]
    },
    {
      "cell_type": "code",
      "execution_count": null,
      "id": "62a6b036",
      "metadata": {
        "colab": {
          "base_uri": "https://localhost:8080/"
        },
        "execution": {
          "iopub.execute_input": "2024-04-26T15:46:18.140987Z",
          "iopub.status.busy": "2024-04-26T15:46:18.140557Z",
          "iopub.status.idle": "2024-04-26T15:46:18.167963Z",
          "shell.execute_reply": "2024-04-26T15:46:18.166737Z"
        },
        "id": "62a6b036",
        "outputId": "ce29fb89-d3af-4287-8625-9972bfe180a1",
        "papermill": {
          "duration": 0.037583,
          "end_time": "2024-04-26T15:46:18.170400",
          "exception": false,
          "start_time": "2024-04-26T15:46:18.132817",
          "status": "completed"
        },
        "tags": []
      },
      "outputs": [
        {
          "name": "stdout",
          "output_type": "stream",
          "text": [
            "<class 'pandas.core.frame.DataFrame'>\n",
            "RangeIndex: 639 entries, 0 to 638\n",
            "Data columns (total 10 columns):\n",
            " #   Column            Non-Null Count  Dtype  \n",
            "---  ------            --------------  -----  \n",
            " 0   Year              639 non-null    int64  \n",
            " 1   MAKE              639 non-null    object \n",
            " 2   MODEL             639 non-null    object \n",
            " 3   VEHICLE CLASS     639 non-null    object \n",
            " 4   ENGINE SIZE       639 non-null    float64\n",
            " 5   CYLINDERS         639 non-null    int64  \n",
            " 6   TRANSMISSION      639 non-null    object \n",
            " 7   FUEL              639 non-null    object \n",
            " 8   FUEL CONSUMPTION  639 non-null    float64\n",
            " 9   COEMISSIONS       639 non-null    int64  \n",
            "dtypes: float64(2), int64(3), object(5)\n",
            "memory usage: 50.0+ KB\n"
          ]
        }
      ],
      "source": [
        "data.info()"
      ]
    },
    {
      "cell_type": "code",
      "execution_count": null,
      "id": "YdnIsZCGHlzk",
      "metadata": {
        "colab": {
          "base_uri": "https://localhost:8080/"
        },
        "id": "YdnIsZCGHlzk",
        "outputId": "320397da-4a3f-443b-a23f-b9be962baddb"
      },
      "outputs": [
        {
          "data": {
            "text/plain": [
              "FUEL\n",
              "X    454\n",
              "Z    176\n",
              "D      6\n",
              "E      2\n",
              "N      1\n",
              "Name: count, dtype: int64"
            ]
          },
          "execution_count": 126,
          "metadata": {},
          "output_type": "execute_result"
        }
      ],
      "source": [
        "data['FUEL'].value_counts()\n"
      ]
    },
    {
      "cell_type": "code",
      "execution_count": null,
      "id": "Nqx5c1EOXYsu",
      "metadata": {
        "colab": {
          "base_uri": "https://localhost:8080/"
        },
        "id": "Nqx5c1EOXYsu",
        "outputId": "430874ff-b644-46d4-e51d-42053e3e4910"
      },
      "outputs": [
        {
          "data": {
            "text/plain": [
              "TRANSMISSION\n",
              "A4     324\n",
              "M5     191\n",
              "A5      73\n",
              "M6      23\n",
              "AS4     12\n",
              "A3      10\n",
              "AS5      5\n",
              "AS6      1\n",
              "Name: count, dtype: int64"
            ]
          },
          "execution_count": 128,
          "metadata": {},
          "output_type": "execute_result"
        }
      ],
      "source": [
        "data['TRANSMISSION'].value_counts()"
      ]
    },
    {
      "cell_type": "code",
      "execution_count": null,
      "id": "VCOMY8JNKKR5",
      "metadata": {
        "colab": {
          "base_uri": "https://localhost:8080/"
        },
        "id": "VCOMY8JNKKR5",
        "outputId": "e9b83256-5e8b-4160-9f6c-9d3fadeaf4f8"
      },
      "outputs": [
        {
          "data": {
            "text/plain": [
              "MODEL\n",
              "JETTA              6\n",
              "LS                 6\n",
              "C1500 SILVERADO    5\n",
              "DAKOTA 4X4         5\n",
              "DAKOTA             5\n",
              "                  ..\n",
              "I30                1\n",
              "QX4 4X4            1\n",
              "HOMBRE 4X4         1\n",
              "S-TYPE V6          1\n",
              "V70R AWD TURBO     1\n",
              "Name: count, Length: 328, dtype: int64"
            ]
          },
          "execution_count": 127,
          "metadata": {},
          "output_type": "execute_result"
        }
      ],
      "source": [
        "data['MODEL'].value_counts()"
      ]
    },
    {
      "cell_type": "code",
      "execution_count": null,
      "id": "WfMcFN2ZJprE",
      "metadata": {
        "colab": {
          "base_uri": "https://localhost:8080/"
        },
        "id": "WfMcFN2ZJprE",
        "outputId": "09246a04-7d7d-416e-89f5-15d419a233ff"
      },
      "outputs": [
        {
          "data": {
            "text/plain": [
              "Year\n",
              "2000    639\n",
              "Name: count, dtype: int64"
            ]
          },
          "execution_count": 94,
          "metadata": {},
          "output_type": "execute_result"
        }
      ],
      "source": [
        "data['Year'].value_counts()"
      ]
    },
    {
      "cell_type": "code",
      "execution_count": null,
      "id": "omNYjnYsIfgt",
      "metadata": {
        "colab": {
          "base_uri": "https://localhost:8080/"
        },
        "id": "omNYjnYsIfgt",
        "outputId": "d29f09a8-4c47-42cc-a6cf-d54204ffcdfa"
      },
      "outputs": [
        {
          "data": {
            "text/plain": [
              "VEHICLE CLASS\n",
              "COMPACT                     105\n",
              "SUBCOMPACT                  104\n",
              "SUV                          97\n",
              "PICKUP TRUCK - STANDARD      92\n",
              "MID-SIZE                     77\n",
              "FULL-SIZE                    28\n",
              "MINIVAN                      26\n",
              "STATION WAGON - MID-SIZE     25\n",
              "VAN - CARGO                  23\n",
              "VAN - PASSENGER              17\n",
              "STATION WAGON - SMALL        13\n",
              "MINICOMPACT                  11\n",
              "PICKUP TRUCK - SMALL         11\n",
              "TWO-SEATER                   10\n",
              "Name: count, dtype: int64"
            ]
          },
          "execution_count": 95,
          "metadata": {},
          "output_type": "execute_result"
        }
      ],
      "source": [
        "data['VEHICLE CLASS'].value_counts()"
      ]
    },
    {
      "cell_type": "code",
      "execution_count": null,
      "id": "_9ZRl6frIzE1",
      "metadata": {
        "colab": {
          "base_uri": "https://localhost:8080/"
        },
        "id": "_9ZRl6frIzE1",
        "outputId": "5ebea3c5-55e3-431d-96bc-56f0f3a56d4e"
      },
      "outputs": [
        {
          "data": {
            "text/plain": [
              "MAKE\n",
              "CHEVROLET        63\n",
              "FORD             62\n",
              "DODGE            46\n",
              "TOYOTA           43\n",
              "GMC              38\n",
              "VOLKSWAGEN       36\n",
              "BMW              29\n",
              "AUDI             22\n",
              "MERCEDES-BENZ    22\n",
              "PONTIAC          21\n",
              "VOLVO            21\n",
              "MAZDA            20\n",
              "CHRYSLER         19\n",
              "NISSAN           19\n",
              "HONDA            17\n",
              "SATURN           15\n",
              "SUZUKI           13\n",
              "SUBARU           12\n",
              "DAEWOO           10\n",
              "HYUNDAI          10\n",
              "JAGUAR           10\n",
              "SAAB              9\n",
              "ACURA             9\n",
              "PORSCHE           8\n",
              "JEEP              8\n",
              "ISUZU             8\n",
              "LEXUS             7\n",
              "FERRARI           7\n",
              "LINCOLN           6\n",
              "BUICK             6\n",
              "OLDSMOBILE        5\n",
              "CADILLAC          5\n",
              "LAND ROVER        4\n",
              "INFINITI          4\n",
              "KIA               4\n",
              "PLYMOUTH          1\n",
              "Name: count, dtype: int64"
            ]
          },
          "execution_count": 96,
          "metadata": {},
          "output_type": "execute_result"
        }
      ],
      "source": [
        "data['MAKE'].value_counts()"
      ]
    },
    {
      "cell_type": "code",
      "execution_count": null,
      "id": "1fd235a6",
      "metadata": {
        "colab": {
          "base_uri": "https://localhost:8080/",
          "height": 300
        },
        "execution": {
          "iopub.execute_input": "2024-04-26T15:46:18.185089Z",
          "iopub.status.busy": "2024-04-26T15:46:18.184671Z",
          "iopub.status.idle": "2024-04-26T15:46:18.214970Z",
          "shell.execute_reply": "2024-04-26T15:46:18.213938Z"
        },
        "id": "1fd235a6",
        "outputId": "808eec6b-c25c-47bf-b161-320e6a4dc8d0",
        "papermill": {
          "duration": 0.040562,
          "end_time": "2024-04-26T15:46:18.217453",
          "exception": false,
          "start_time": "2024-04-26T15:46:18.176891",
          "status": "completed"
        },
        "tags": []
      },
      "outputs": [
        {
          "data": {
            "application/vnd.google.colaboratory.intrinsic+json": {
              "summary": "{\n  \"name\": \"data\",\n  \"rows\": 8,\n  \"fields\": [\n    {\n      \"column\": \"Year\",\n      \"properties\": {\n        \"dtype\": \"number\",\n        \"std\": 796.4457541387952,\n        \"min\": 0.0,\n        \"max\": 2000.0,\n        \"num_unique_values\": 3,\n        \"samples\": [\n          639.0,\n          2000.0,\n          0.0\n        ],\n        \"semantic_type\": \"\",\n        \"description\": \"\"\n      }\n    },\n    {\n      \"column\": \"ENGINE SIZE\",\n      \"properties\": {\n        \"dtype\": \"number\",\n        \"std\": 224.769898187452,\n        \"min\": 1.0,\n        \"max\": 639.0,\n        \"num_unique_values\": 8,\n        \"samples\": [\n          3.2657276995305167,\n          3.0,\n          639.0\n        ],\n        \"semantic_type\": \"\",\n        \"description\": \"\"\n      }\n    },\n    {\n      \"column\": \"CYLINDERS\",\n      \"properties\": {\n        \"dtype\": \"number\",\n        \"std\": 224.00069071199727,\n        \"min\": 1.6255876208780373,\n        \"max\": 639.0,\n        \"num_unique_values\": 7,\n        \"samples\": [\n          639.0,\n          5.805946791862285,\n          6.0\n        ],\n        \"semantic_type\": \"\",\n        \"description\": \"\"\n      }\n    },\n    {\n      \"column\": \"FUEL CONSUMPTION\",\n      \"properties\": {\n        \"dtype\": \"number\",\n        \"std\": 221.19203931702643,\n        \"min\": 3.307043767251958,\n        \"max\": 639.0,\n        \"num_unique_values\": 8,\n        \"samples\": [\n          14.713615023474178,\n          14.4,\n          639.0\n        ],\n        \"semantic_type\": \"\",\n        \"description\": \"\"\n      }\n    },\n    {\n      \"column\": \"COEMISSIONS \",\n      \"properties\": {\n        \"dtype\": \"number\",\n        \"std\": 202.97534810852252,\n        \"min\": 65.50417808775094,\n        \"max\": 639.0,\n        \"num_unique_values\": 8,\n        \"samples\": [\n          296.8090766823161,\n          288.0,\n          639.0\n        ],\n        \"semantic_type\": \"\",\n        \"description\": \"\"\n      }\n    }\n  ]\n}",
              "type": "dataframe"
            },
            "text/html": [
              "\n",
              "  <div id=\"df-8905534a-35ed-4fd1-a503-617a083ab833\" class=\"colab-df-container\">\n",
              "    <div>\n",
              "<style scoped>\n",
              "    .dataframe tbody tr th:only-of-type {\n",
              "        vertical-align: middle;\n",
              "    }\n",
              "\n",
              "    .dataframe tbody tr th {\n",
              "        vertical-align: top;\n",
              "    }\n",
              "\n",
              "    .dataframe thead th {\n",
              "        text-align: right;\n",
              "    }\n",
              "</style>\n",
              "<table border=\"1\" class=\"dataframe\">\n",
              "  <thead>\n",
              "    <tr style=\"text-align: right;\">\n",
              "      <th></th>\n",
              "      <th>Year</th>\n",
              "      <th>ENGINE SIZE</th>\n",
              "      <th>CYLINDERS</th>\n",
              "      <th>FUEL CONSUMPTION</th>\n",
              "      <th>COEMISSIONS</th>\n",
              "    </tr>\n",
              "  </thead>\n",
              "  <tbody>\n",
              "    <tr>\n",
              "      <th>count</th>\n",
              "      <td>639.0</td>\n",
              "      <td>639.000000</td>\n",
              "      <td>639.000000</td>\n",
              "      <td>639.000000</td>\n",
              "      <td>639.000000</td>\n",
              "    </tr>\n",
              "    <tr>\n",
              "      <th>mean</th>\n",
              "      <td>2000.0</td>\n",
              "      <td>3.265728</td>\n",
              "      <td>5.805947</td>\n",
              "      <td>14.713615</td>\n",
              "      <td>296.809077</td>\n",
              "    </tr>\n",
              "    <tr>\n",
              "      <th>std</th>\n",
              "      <td>0.0</td>\n",
              "      <td>1.231012</td>\n",
              "      <td>1.625588</td>\n",
              "      <td>3.307044</td>\n",
              "      <td>65.504178</td>\n",
              "    </tr>\n",
              "    <tr>\n",
              "      <th>min</th>\n",
              "      <td>2000.0</td>\n",
              "      <td>1.000000</td>\n",
              "      <td>3.000000</td>\n",
              "      <td>4.900000</td>\n",
              "      <td>104.000000</td>\n",
              "    </tr>\n",
              "    <tr>\n",
              "      <th>25%</th>\n",
              "      <td>2000.0</td>\n",
              "      <td>2.200000</td>\n",
              "      <td>4.000000</td>\n",
              "      <td>12.500000</td>\n",
              "      <td>253.000000</td>\n",
              "    </tr>\n",
              "    <tr>\n",
              "      <th>50%</th>\n",
              "      <td>2000.0</td>\n",
              "      <td>3.000000</td>\n",
              "      <td>6.000000</td>\n",
              "      <td>14.400000</td>\n",
              "      <td>288.000000</td>\n",
              "    </tr>\n",
              "    <tr>\n",
              "      <th>75%</th>\n",
              "      <td>2000.0</td>\n",
              "      <td>4.300000</td>\n",
              "      <td>6.000000</td>\n",
              "      <td>16.600000</td>\n",
              "      <td>343.000000</td>\n",
              "    </tr>\n",
              "    <tr>\n",
              "      <th>max</th>\n",
              "      <td>2000.0</td>\n",
              "      <td>8.000000</td>\n",
              "      <td>12.000000</td>\n",
              "      <td>30.200000</td>\n",
              "      <td>582.000000</td>\n",
              "    </tr>\n",
              "  </tbody>\n",
              "</table>\n",
              "</div>\n",
              "    <div class=\"colab-df-buttons\">\n",
              "\n",
              "  <div class=\"colab-df-container\">\n",
              "    <button class=\"colab-df-convert\" onclick=\"convertToInteractive('df-8905534a-35ed-4fd1-a503-617a083ab833')\"\n",
              "            title=\"Convert this dataframe to an interactive table.\"\n",
              "            style=\"display:none;\">\n",
              "\n",
              "  <svg xmlns=\"http://www.w3.org/2000/svg\" height=\"24px\" viewBox=\"0 -960 960 960\">\n",
              "    <path d=\"M120-120v-720h720v720H120Zm60-500h600v-160H180v160Zm220 220h160v-160H400v160Zm0 220h160v-160H400v160ZM180-400h160v-160H180v160Zm440 0h160v-160H620v160ZM180-180h160v-160H180v160Zm440 0h160v-160H620v160Z\"/>\n",
              "  </svg>\n",
              "    </button>\n",
              "\n",
              "  <style>\n",
              "    .colab-df-container {\n",
              "      display:flex;\n",
              "      gap: 12px;\n",
              "    }\n",
              "\n",
              "    .colab-df-convert {\n",
              "      background-color: #E8F0FE;\n",
              "      border: none;\n",
              "      border-radius: 50%;\n",
              "      cursor: pointer;\n",
              "      display: none;\n",
              "      fill: #1967D2;\n",
              "      height: 32px;\n",
              "      padding: 0 0 0 0;\n",
              "      width: 32px;\n",
              "    }\n",
              "\n",
              "    .colab-df-convert:hover {\n",
              "      background-color: #E2EBFA;\n",
              "      box-shadow: 0px 1px 2px rgba(60, 64, 67, 0.3), 0px 1px 3px 1px rgba(60, 64, 67, 0.15);\n",
              "      fill: #174EA6;\n",
              "    }\n",
              "\n",
              "    .colab-df-buttons div {\n",
              "      margin-bottom: 4px;\n",
              "    }\n",
              "\n",
              "    [theme=dark] .colab-df-convert {\n",
              "      background-color: #3B4455;\n",
              "      fill: #D2E3FC;\n",
              "    }\n",
              "\n",
              "    [theme=dark] .colab-df-convert:hover {\n",
              "      background-color: #434B5C;\n",
              "      box-shadow: 0px 1px 3px 1px rgba(0, 0, 0, 0.15);\n",
              "      filter: drop-shadow(0px 1px 2px rgba(0, 0, 0, 0.3));\n",
              "      fill: #FFFFFF;\n",
              "    }\n",
              "  </style>\n",
              "\n",
              "    <script>\n",
              "      const buttonEl =\n",
              "        document.querySelector('#df-8905534a-35ed-4fd1-a503-617a083ab833 button.colab-df-convert');\n",
              "      buttonEl.style.display =\n",
              "        google.colab.kernel.accessAllowed ? 'block' : 'none';\n",
              "\n",
              "      async function convertToInteractive(key) {\n",
              "        const element = document.querySelector('#df-8905534a-35ed-4fd1-a503-617a083ab833');\n",
              "        const dataTable =\n",
              "          await google.colab.kernel.invokeFunction('convertToInteractive',\n",
              "                                                    [key], {});\n",
              "        if (!dataTable) return;\n",
              "\n",
              "        const docLinkHtml = 'Like what you see? Visit the ' +\n",
              "          '<a target=\"_blank\" href=https://colab.research.google.com/notebooks/data_table.ipynb>data table notebook</a>'\n",
              "          + ' to learn more about interactive tables.';\n",
              "        element.innerHTML = '';\n",
              "        dataTable['output_type'] = 'display_data';\n",
              "        await google.colab.output.renderOutput(dataTable, element);\n",
              "        const docLink = document.createElement('div');\n",
              "        docLink.innerHTML = docLinkHtml;\n",
              "        element.appendChild(docLink);\n",
              "      }\n",
              "    </script>\n",
              "  </div>\n",
              "\n",
              "\n",
              "<div id=\"df-ec9d9656-f4a9-4098-beeb-b15c8618a8e6\">\n",
              "  <button class=\"colab-df-quickchart\" onclick=\"quickchart('df-ec9d9656-f4a9-4098-beeb-b15c8618a8e6')\"\n",
              "            title=\"Suggest charts\"\n",
              "            style=\"display:none;\">\n",
              "\n",
              "<svg xmlns=\"http://www.w3.org/2000/svg\" height=\"24px\"viewBox=\"0 0 24 24\"\n",
              "     width=\"24px\">\n",
              "    <g>\n",
              "        <path d=\"M19 3H5c-1.1 0-2 .9-2 2v14c0 1.1.9 2 2 2h14c1.1 0 2-.9 2-2V5c0-1.1-.9-2-2-2zM9 17H7v-7h2v7zm4 0h-2V7h2v10zm4 0h-2v-4h2v4z\"/>\n",
              "    </g>\n",
              "</svg>\n",
              "  </button>\n",
              "\n",
              "<style>\n",
              "  .colab-df-quickchart {\n",
              "      --bg-color: #E8F0FE;\n",
              "      --fill-color: #1967D2;\n",
              "      --hover-bg-color: #E2EBFA;\n",
              "      --hover-fill-color: #174EA6;\n",
              "      --disabled-fill-color: #AAA;\n",
              "      --disabled-bg-color: #DDD;\n",
              "  }\n",
              "\n",
              "  [theme=dark] .colab-df-quickchart {\n",
              "      --bg-color: #3B4455;\n",
              "      --fill-color: #D2E3FC;\n",
              "      --hover-bg-color: #434B5C;\n",
              "      --hover-fill-color: #FFFFFF;\n",
              "      --disabled-bg-color: #3B4455;\n",
              "      --disabled-fill-color: #666;\n",
              "  }\n",
              "\n",
              "  .colab-df-quickchart {\n",
              "    background-color: var(--bg-color);\n",
              "    border: none;\n",
              "    border-radius: 50%;\n",
              "    cursor: pointer;\n",
              "    display: none;\n",
              "    fill: var(--fill-color);\n",
              "    height: 32px;\n",
              "    padding: 0;\n",
              "    width: 32px;\n",
              "  }\n",
              "\n",
              "  .colab-df-quickchart:hover {\n",
              "    background-color: var(--hover-bg-color);\n",
              "    box-shadow: 0 1px 2px rgba(60, 64, 67, 0.3), 0 1px 3px 1px rgba(60, 64, 67, 0.15);\n",
              "    fill: var(--button-hover-fill-color);\n",
              "  }\n",
              "\n",
              "  .colab-df-quickchart-complete:disabled,\n",
              "  .colab-df-quickchart-complete:disabled:hover {\n",
              "    background-color: var(--disabled-bg-color);\n",
              "    fill: var(--disabled-fill-color);\n",
              "    box-shadow: none;\n",
              "  }\n",
              "\n",
              "  .colab-df-spinner {\n",
              "    border: 2px solid var(--fill-color);\n",
              "    border-color: transparent;\n",
              "    border-bottom-color: var(--fill-color);\n",
              "    animation:\n",
              "      spin 1s steps(1) infinite;\n",
              "  }\n",
              "\n",
              "  @keyframes spin {\n",
              "    0% {\n",
              "      border-color: transparent;\n",
              "      border-bottom-color: var(--fill-color);\n",
              "      border-left-color: var(--fill-color);\n",
              "    }\n",
              "    20% {\n",
              "      border-color: transparent;\n",
              "      border-left-color: var(--fill-color);\n",
              "      border-top-color: var(--fill-color);\n",
              "    }\n",
              "    30% {\n",
              "      border-color: transparent;\n",
              "      border-left-color: var(--fill-color);\n",
              "      border-top-color: var(--fill-color);\n",
              "      border-right-color: var(--fill-color);\n",
              "    }\n",
              "    40% {\n",
              "      border-color: transparent;\n",
              "      border-right-color: var(--fill-color);\n",
              "      border-top-color: var(--fill-color);\n",
              "    }\n",
              "    60% {\n",
              "      border-color: transparent;\n",
              "      border-right-color: var(--fill-color);\n",
              "    }\n",
              "    80% {\n",
              "      border-color: transparent;\n",
              "      border-right-color: var(--fill-color);\n",
              "      border-bottom-color: var(--fill-color);\n",
              "    }\n",
              "    90% {\n",
              "      border-color: transparent;\n",
              "      border-bottom-color: var(--fill-color);\n",
              "    }\n",
              "  }\n",
              "</style>\n",
              "\n",
              "  <script>\n",
              "    async function quickchart(key) {\n",
              "      const quickchartButtonEl =\n",
              "        document.querySelector('#' + key + ' button');\n",
              "      quickchartButtonEl.disabled = true;  // To prevent multiple clicks.\n",
              "      quickchartButtonEl.classList.add('colab-df-spinner');\n",
              "      try {\n",
              "        const charts = await google.colab.kernel.invokeFunction(\n",
              "            'suggestCharts', [key], {});\n",
              "      } catch (error) {\n",
              "        console.error('Error during call to suggestCharts:', error);\n",
              "      }\n",
              "      quickchartButtonEl.classList.remove('colab-df-spinner');\n",
              "      quickchartButtonEl.classList.add('colab-df-quickchart-complete');\n",
              "    }\n",
              "    (() => {\n",
              "      let quickchartButtonEl =\n",
              "        document.querySelector('#df-ec9d9656-f4a9-4098-beeb-b15c8618a8e6 button');\n",
              "      quickchartButtonEl.style.display =\n",
              "        google.colab.kernel.accessAllowed ? 'block' : 'none';\n",
              "    })();\n",
              "  </script>\n",
              "</div>\n",
              "\n",
              "    </div>\n",
              "  </div>\n"
            ],
            "text/plain": [
              "         Year  ENGINE SIZE   CYLINDERS  FUEL CONSUMPTION  COEMISSIONS \n",
              "count   639.0   639.000000  639.000000        639.000000    639.000000\n",
              "mean   2000.0     3.265728    5.805947         14.713615    296.809077\n",
              "std       0.0     1.231012    1.625588          3.307044     65.504178\n",
              "min    2000.0     1.000000    3.000000          4.900000    104.000000\n",
              "25%    2000.0     2.200000    4.000000         12.500000    253.000000\n",
              "50%    2000.0     3.000000    6.000000         14.400000    288.000000\n",
              "75%    2000.0     4.300000    6.000000         16.600000    343.000000\n",
              "max    2000.0     8.000000   12.000000         30.200000    582.000000"
            ]
          },
          "execution_count": 129,
          "metadata": {},
          "output_type": "execute_result"
        }
      ],
      "source": [
        "data.describe()"
      ]
    },
    {
      "cell_type": "code",
      "execution_count": null,
      "id": "A3khQ2z8IIxn",
      "metadata": {
        "colab": {
          "base_uri": "https://localhost:8080/"
        },
        "id": "A3khQ2z8IIxn",
        "outputId": "942d1efc-4b01-4d63-880e-aba1ae57fc86"
      },
      "outputs": [
        {
          "name": "stdout",
          "output_type": "stream",
          "text": [
            "    FUEL  fuel_encoded\n",
            "0      X             3\n",
            "1      X             3\n",
            "2      Z             4\n",
            "3      Z             4\n",
            "4      X             3\n",
            "..   ...           ...\n",
            "634    Z             4\n",
            "635    Z             4\n",
            "636    Z             4\n",
            "637    Z             4\n",
            "638    Z             4\n",
            "\n",
            "[639 rows x 2 columns]\n"
          ]
        }
      ],
      "source": [
        "from sklearn.preprocessing import LabelEncoder\n",
        "\n",
        "# Create a LabelEncoder object\n",
        "label_encoder = LabelEncoder()\n",
        "\n",
        "# Fit and transform the 'FUEL' column\n",
        "data['fuel_encoded'] = label_encoder.fit_transform(data['FUEL'])\n",
        "\n",
        "print(data[['FUEL', 'fuel_encoded']])\n"
      ]
    },
    {
      "cell_type": "code",
      "execution_count": null,
      "id": "hDxQxS-gKRNs",
      "metadata": {
        "colab": {
          "base_uri": "https://localhost:8080/"
        },
        "id": "hDxQxS-gKRNs",
        "outputId": "e51166b0-27d4-4092-b79c-563c64f39f0d"
      },
      "outputs": [
        {
          "name": "stdout",
          "output_type": "stream",
          "text": [
            "              MODEL  MODEL_encoded\n",
            "0             1.6EL              0\n",
            "1             1.6EL              0\n",
            "2             3.2TL              1\n",
            "3             3.5RL              2\n",
            "4           INTEGRA            164\n",
            "..              ...            ...\n",
            "634   V70 AWD TURBO            303\n",
            "635   V70 GLT TURBO            304\n",
            "636    V70 T5 TURBO            305\n",
            "637    V70 T5 TURBO            305\n",
            "638  V70R AWD TURBO            306\n",
            "\n",
            "[639 rows x 2 columns]\n"
          ]
        }
      ],
      "source": [
        "from sklearn.preprocessing import LabelEncoder\n",
        "\n",
        "# Create a LabelEncoder object\n",
        "label_encoder = LabelEncoder()\n",
        "\n",
        "# Fit and transform the 'FUEL' column\n",
        "data['MODEL_encoded'] = label_encoder.fit_transform(data['MODEL'])\n",
        "\n",
        "print(data[['MODEL', 'MODEL_encoded']])"
      ]
    },
    {
      "cell_type": "code",
      "execution_count": null,
      "id": "mbLWV2gMJ9w-",
      "metadata": {
        "colab": {
          "base_uri": "https://localhost:8080/"
        },
        "id": "mbLWV2gMJ9w-",
        "outputId": "1a6b2d68-3a87-4f03-be61-0421cb3bd4be"
      },
      "outputs": [
        {
          "name": "stdout",
          "output_type": "stream",
          "text": [
            "                VEHICLE CLASS  CLASS_encoded\n",
            "0                     COMPACT              0\n",
            "1                     COMPACT              0\n",
            "2                    MID-SIZE              2\n",
            "3                    MID-SIZE              2\n",
            "4                  SUBCOMPACT              9\n",
            "..                        ...            ...\n",
            "634  STATION WAGON - MID-SIZE              7\n",
            "635  STATION WAGON - MID-SIZE              7\n",
            "636  STATION WAGON - MID-SIZE              7\n",
            "637  STATION WAGON - MID-SIZE              7\n",
            "638  STATION WAGON - MID-SIZE              7\n",
            "\n",
            "[639 rows x 2 columns]\n"
          ]
        }
      ],
      "source": [
        "from sklearn.preprocessing import LabelEncoder\n",
        "\n",
        "# Create a LabelEncoder object\n",
        "label_encoder = LabelEncoder()\n",
        "\n",
        "# Fit and transform the 'FUEL' column\n",
        "data['CLASS_encoded'] = label_encoder.fit_transform(data['VEHICLE CLASS'])\n",
        "\n",
        "print(data[['VEHICLE CLASS', 'CLASS_encoded']])\n"
      ]
    },
    {
      "cell_type": "code",
      "execution_count": null,
      "id": "aVa-E6j4I5b_",
      "metadata": {
        "colab": {
          "base_uri": "https://localhost:8080/"
        },
        "id": "aVa-E6j4I5b_",
        "outputId": "3785985e-9a8f-46d3-82d0-4db55481ec0a"
      },
      "outputs": [
        {
          "name": "stdout",
          "output_type": "stream",
          "text": [
            "      MAKE  MAKE_encoded\n",
            "0    ACURA             0\n",
            "1    ACURA             0\n",
            "2    ACURA             0\n",
            "3    ACURA             0\n",
            "4    ACURA             0\n",
            "..     ...           ...\n",
            "634  VOLVO            35\n",
            "635  VOLVO            35\n",
            "636  VOLVO            35\n",
            "637  VOLVO            35\n",
            "638  VOLVO            35\n",
            "\n",
            "[639 rows x 2 columns]\n"
          ]
        }
      ],
      "source": [
        "from sklearn.preprocessing import LabelEncoder\n",
        "\n",
        "# Create a LabelEncoder object\n",
        "label_encoder = LabelEncoder()\n",
        "\n",
        "# Fit and transform the 'FUEL' column\n",
        "data['MAKE_encoded'] = label_encoder.fit_transform(data['MAKE'])\n",
        "\n",
        "print(data[['MAKE', 'MAKE_encoded']])\n"
      ]
    },
    {
      "cell_type": "code",
      "execution_count": null,
      "id": "K6dYAsj2X5Ww",
      "metadata": {
        "colab": {
          "base_uri": "https://localhost:8080/"
        },
        "id": "K6dYAsj2X5Ww",
        "outputId": "08470039-5187-458d-cf17-0a892dd06672"
      },
      "outputs": [
        {
          "name": "stdout",
          "output_type": "stream",
          "text": [
            "    TRANSMISSION  TRANSMISSION_encoded\n",
            "0             A4                     1\n",
            "1             M5                     6\n",
            "2            AS5                     4\n",
            "3             A4                     1\n",
            "4             A4                     1\n",
            "..           ...                   ...\n",
            "634           A4                     1\n",
            "635           A4                     1\n",
            "636           A4                     1\n",
            "637           M5                     6\n",
            "638           A5                     2\n",
            "\n",
            "[639 rows x 2 columns]\n"
          ]
        }
      ],
      "source": [
        "from sklearn.preprocessing import LabelEncoder\n",
        "\n",
        "# Create a LabelEncoder object\n",
        "label_encoder = LabelEncoder()\n",
        "\n",
        "# Fit and transform the 'FUEL' column\n",
        "data['TRANSMISSION_encoded'] = label_encoder.fit_transform(data['TRANSMISSION'])\n",
        "\n",
        "print(data[['TRANSMISSION', 'TRANSMISSION_encoded']])"
      ]
    },
    {
      "cell_type": "code",
      "execution_count": null,
      "id": "80d2c858",
      "metadata": {
        "colab": {
          "base_uri": "https://localhost:8080/"
        },
        "execution": {
          "iopub.execute_input": "2024-04-26T15:46:18.233520Z",
          "iopub.status.busy": "2024-04-26T15:46:18.232198Z",
          "iopub.status.idle": "2024-04-26T15:46:18.245734Z",
          "shell.execute_reply": "2024-04-26T15:46:18.244497Z"
        },
        "id": "80d2c858",
        "outputId": "bc7f2c62-b47f-4901-ce8c-dee7a82a2f21",
        "papermill": {
          "duration": 0.023583,
          "end_time": "2024-04-26T15:46:18.247902",
          "exception": false,
          "start_time": "2024-04-26T15:46:18.224319",
          "status": "completed"
        },
        "tags": []
      },
      "outputs": [
        {
          "name": "stdout",
          "output_type": "stream",
          "text": [
            "Correlation Matrix:\n",
            "                      Year  ENGINE SIZE  CYLINDERS  FUEL CONSUMPTION  \\\n",
            "Year                   NaN          NaN        NaN               NaN   \n",
            "ENGINE SIZE            NaN     1.000000   0.893819          0.858170   \n",
            "CYLINDERS              NaN     0.893819   1.000000          0.825784   \n",
            "FUEL CONSUMPTION       NaN     0.858170   0.825784          1.000000   \n",
            "COEMISSIONS            NaN     0.849714   0.798447          0.983232   \n",
            "fuel_encoded           NaN     0.066340   0.230593          0.131717   \n",
            "MODEL_encoded          NaN    -0.072268  -0.113059         -0.073373   \n",
            "CLASS_encoded          NaN     0.288672   0.159792          0.334821   \n",
            "MAKE_encoded           NaN    -0.389762  -0.368075         -0.363855   \n",
            "TRANSMISSION_encoded   NaN    -0.227780  -0.205878         -0.202413   \n",
            "\n",
            "                      COEMISSIONS   fuel_encoded  MODEL_encoded  \\\n",
            "Year                           NaN           NaN            NaN   \n",
            "ENGINE SIZE               0.849714      0.066340      -0.072268   \n",
            "CYLINDERS                 0.798447      0.230593      -0.113059   \n",
            "FUEL CONSUMPTION          0.983232      0.131717      -0.073373   \n",
            "COEMISSIONS               1.000000      0.099980      -0.049467   \n",
            "fuel_encoded              0.099980      1.000000      -0.091249   \n",
            "MODEL_encoded            -0.049467     -0.091249       1.000000   \n",
            "CLASS_encoded             0.382798     -0.115376       0.202299   \n",
            "MAKE_encoded             -0.336871     -0.077496       0.164501   \n",
            "TRANSMISSION_encoded     -0.208396      0.096711      -0.021378   \n",
            "\n",
            "                      CLASS_encoded  MAKE_encoded  TRANSMISSION_encoded  \n",
            "Year                            NaN           NaN                   NaN  \n",
            "ENGINE SIZE                0.288672     -0.389762             -0.227780  \n",
            "CYLINDERS                  0.159792     -0.368075             -0.205878  \n",
            "FUEL CONSUMPTION           0.334821     -0.363855             -0.202413  \n",
            "COEMISSIONS                0.382798     -0.336871             -0.208396  \n",
            "fuel_encoded              -0.115376     -0.077496              0.096711  \n",
            "MODEL_encoded              0.202299      0.164501             -0.021378  \n",
            "CLASS_encoded              1.000000     -0.066148             -0.026101  \n",
            "MAKE_encoded              -0.066148      1.000000              0.058830  \n",
            "TRANSMISSION_encoded      -0.026101      0.058830              1.000000  \n"
          ]
        }
      ],
      "source": [
        "# Pick only the numeric columns\n",
        "numeric_data = data.select_dtypes(include=[np.number]) #.drop(columns=['Year'])\n",
        "\n",
        "# Correlation matrix\n",
        "corr = numeric_data.corr()\n",
        "\n",
        "print(\"Correlation Matrix:\")\n",
        "print(corr)"
      ]
    },
    {
      "cell_type": "code",
      "execution_count": null,
      "id": "rPyqMEYpYuYY",
      "metadata": {
        "colab": {
          "base_uri": "https://localhost:8080/",
          "height": 243
        },
        "id": "rPyqMEYpYuYY",
        "outputId": "d024fcb0-2c78-43ea-cccd-c4e61e439c49"
      },
      "outputs": [
        {
          "data": {
            "application/vnd.google.colaboratory.intrinsic+json": {
              "summary": "{\n  \"name\": \"data\",\n  \"rows\": 639,\n  \"fields\": [\n    {\n      \"column\": \"Year\",\n      \"properties\": {\n        \"dtype\": \"number\",\n        \"std\": 0,\n        \"min\": 2000,\n        \"max\": 2000,\n        \"num_unique_values\": 1,\n        \"samples\": [\n          2000\n        ],\n        \"semantic_type\": \"\",\n        \"description\": \"\"\n      }\n    },\n    {\n      \"column\": \"MAKE\",\n      \"properties\": {\n        \"dtype\": \"category\",\n        \"num_unique_values\": 36,\n        \"samples\": [\n          \"VOLVO\"\n        ],\n        \"semantic_type\": \"\",\n        \"description\": \"\"\n      }\n    },\n    {\n      \"column\": \"MODEL\",\n      \"properties\": {\n        \"dtype\": \"string\",\n        \"num_unique_values\": 328,\n        \"samples\": [\n          \"ML 320\"\n        ],\n        \"semantic_type\": \"\",\n        \"description\": \"\"\n      }\n    },\n    {\n      \"column\": \"VEHICLE CLASS\",\n      \"properties\": {\n        \"dtype\": \"category\",\n        \"num_unique_values\": 14,\n        \"samples\": [\n          \"VAN - CARGO\"\n        ],\n        \"semantic_type\": \"\",\n        \"description\": \"\"\n      }\n    },\n    {\n      \"column\": \"ENGINE SIZE\",\n      \"properties\": {\n        \"dtype\": \"number\",\n        \"std\": 1.2310121715436393,\n        \"min\": 1.0,\n        \"max\": 8.0,\n        \"num_unique_values\": 40,\n        \"samples\": [\n          6.0\n        ],\n        \"semantic_type\": \"\",\n        \"description\": \"\"\n      }\n    },\n    {\n      \"column\": \"CYLINDERS\",\n      \"properties\": {\n        \"dtype\": \"number\",\n        \"std\": 1,\n        \"min\": 3,\n        \"max\": 12,\n        \"num_unique_values\": 7,\n        \"samples\": [\n          4\n        ],\n        \"semantic_type\": \"\",\n        \"description\": \"\"\n      }\n    },\n    {\n      \"column\": \"TRANSMISSION\",\n      \"properties\": {\n        \"dtype\": \"category\",\n        \"num_unique_values\": 8,\n        \"samples\": [\n          \"M5\"\n        ],\n        \"semantic_type\": \"\",\n        \"description\": \"\"\n      }\n    },\n    {\n      \"column\": \"FUEL\",\n      \"properties\": {\n        \"dtype\": \"category\",\n        \"num_unique_values\": 5,\n        \"samples\": [\n          \"Z\"\n        ],\n        \"semantic_type\": \"\",\n        \"description\": \"\"\n      }\n    },\n    {\n      \"column\": \"FUEL CONSUMPTION\",\n      \"properties\": {\n        \"dtype\": \"number\",\n        \"std\": 3.307043767251958,\n        \"min\": 4.9,\n        \"max\": 30.2,\n        \"num_unique_values\": 124,\n        \"samples\": [\n          13.1\n        ],\n        \"semantic_type\": \"\",\n        \"description\": \"\"\n      }\n    },\n    {\n      \"column\": \"COEMISSIONS \",\n      \"properties\": {\n        \"dtype\": \"number\",\n        \"std\": 65,\n        \"min\": 104,\n        \"max\": 582,\n        \"num_unique_values\": 116,\n        \"samples\": [\n          474\n        ],\n        \"semantic_type\": \"\",\n        \"description\": \"\"\n      }\n    },\n    {\n      \"column\": \"fuel_encoded\",\n      \"properties\": {\n        \"dtype\": \"number\",\n        \"std\": 0,\n        \"min\": 0,\n        \"max\": 4,\n        \"num_unique_values\": 5,\n        \"samples\": [\n          4\n        ],\n        \"semantic_type\": \"\",\n        \"description\": \"\"\n      }\n    },\n    {\n      \"column\": \"MODEL_encoded\",\n      \"properties\": {\n        \"dtype\": \"number\",\n        \"std\": 91,\n        \"min\": 0,\n        \"max\": 327,\n        \"num_unique_values\": 328,\n        \"samples\": [\n          195\n        ],\n        \"semantic_type\": \"\",\n        \"description\": \"\"\n      }\n    },\n    {\n      \"column\": \"CLASS_encoded\",\n      \"properties\": {\n        \"dtype\": \"number\",\n        \"std\": 4,\n        \"min\": 0,\n        \"max\": 13,\n        \"num_unique_values\": 14,\n        \"samples\": [\n          12\n        ],\n        \"semantic_type\": \"\",\n        \"description\": \"\"\n      }\n    },\n    {\n      \"column\": \"MAKE_encoded\",\n      \"properties\": {\n        \"dtype\": \"number\",\n        \"std\": 11,\n        \"min\": 0,\n        \"max\": 35,\n        \"num_unique_values\": 36,\n        \"samples\": [\n          35\n        ],\n        \"semantic_type\": \"\",\n        \"description\": \"\"\n      }\n    },\n    {\n      \"column\": \"TRANSMISSION_encoded\",\n      \"properties\": {\n        \"dtype\": \"number\",\n        \"std\": 2,\n        \"min\": 0,\n        \"max\": 7,\n        \"num_unique_values\": 8,\n        \"samples\": [\n          6\n        ],\n        \"semantic_type\": \"\",\n        \"description\": \"\"\n      }\n    }\n  ]\n}",
              "type": "dataframe",
              "variable_name": "data"
            },
            "text/html": [
              "\n",
              "  <div id=\"df-c6f495e0-3842-45fe-a4bf-f9b41b662bd3\" class=\"colab-df-container\">\n",
              "    <div>\n",
              "<style scoped>\n",
              "    .dataframe tbody tr th:only-of-type {\n",
              "        vertical-align: middle;\n",
              "    }\n",
              "\n",
              "    .dataframe tbody tr th {\n",
              "        vertical-align: top;\n",
              "    }\n",
              "\n",
              "    .dataframe thead th {\n",
              "        text-align: right;\n",
              "    }\n",
              "</style>\n",
              "<table border=\"1\" class=\"dataframe\">\n",
              "  <thead>\n",
              "    <tr style=\"text-align: right;\">\n",
              "      <th></th>\n",
              "      <th>Year</th>\n",
              "      <th>MAKE</th>\n",
              "      <th>MODEL</th>\n",
              "      <th>VEHICLE CLASS</th>\n",
              "      <th>ENGINE SIZE</th>\n",
              "      <th>CYLINDERS</th>\n",
              "      <th>TRANSMISSION</th>\n",
              "      <th>FUEL</th>\n",
              "      <th>FUEL CONSUMPTION</th>\n",
              "      <th>COEMISSIONS</th>\n",
              "      <th>fuel_encoded</th>\n",
              "      <th>MODEL_encoded</th>\n",
              "      <th>CLASS_encoded</th>\n",
              "      <th>MAKE_encoded</th>\n",
              "      <th>TRANSMISSION_encoded</th>\n",
              "    </tr>\n",
              "  </thead>\n",
              "  <tbody>\n",
              "    <tr>\n",
              "      <th>0</th>\n",
              "      <td>2000</td>\n",
              "      <td>ACURA</td>\n",
              "      <td>1.6EL</td>\n",
              "      <td>COMPACT</td>\n",
              "      <td>1.6</td>\n",
              "      <td>4</td>\n",
              "      <td>A4</td>\n",
              "      <td>X</td>\n",
              "      <td>10.5</td>\n",
              "      <td>216</td>\n",
              "      <td>3</td>\n",
              "      <td>0</td>\n",
              "      <td>0</td>\n",
              "      <td>0</td>\n",
              "      <td>1</td>\n",
              "    </tr>\n",
              "    <tr>\n",
              "      <th>1</th>\n",
              "      <td>2000</td>\n",
              "      <td>ACURA</td>\n",
              "      <td>1.6EL</td>\n",
              "      <td>COMPACT</td>\n",
              "      <td>1.6</td>\n",
              "      <td>4</td>\n",
              "      <td>M5</td>\n",
              "      <td>X</td>\n",
              "      <td>9.8</td>\n",
              "      <td>205</td>\n",
              "      <td>3</td>\n",
              "      <td>0</td>\n",
              "      <td>0</td>\n",
              "      <td>0</td>\n",
              "      <td>6</td>\n",
              "    </tr>\n",
              "    <tr>\n",
              "      <th>2</th>\n",
              "      <td>2000</td>\n",
              "      <td>ACURA</td>\n",
              "      <td>3.2TL</td>\n",
              "      <td>MID-SIZE</td>\n",
              "      <td>3.2</td>\n",
              "      <td>6</td>\n",
              "      <td>AS5</td>\n",
              "      <td>Z</td>\n",
              "      <td>13.7</td>\n",
              "      <td>265</td>\n",
              "      <td>4</td>\n",
              "      <td>1</td>\n",
              "      <td>2</td>\n",
              "      <td>0</td>\n",
              "      <td>4</td>\n",
              "    </tr>\n",
              "    <tr>\n",
              "      <th>3</th>\n",
              "      <td>2000</td>\n",
              "      <td>ACURA</td>\n",
              "      <td>3.5RL</td>\n",
              "      <td>MID-SIZE</td>\n",
              "      <td>3.5</td>\n",
              "      <td>6</td>\n",
              "      <td>A4</td>\n",
              "      <td>Z</td>\n",
              "      <td>15.0</td>\n",
              "      <td>301</td>\n",
              "      <td>4</td>\n",
              "      <td>2</td>\n",
              "      <td>2</td>\n",
              "      <td>0</td>\n",
              "      <td>1</td>\n",
              "    </tr>\n",
              "    <tr>\n",
              "      <th>4</th>\n",
              "      <td>2000</td>\n",
              "      <td>ACURA</td>\n",
              "      <td>INTEGRA</td>\n",
              "      <td>SUBCOMPACT</td>\n",
              "      <td>1.8</td>\n",
              "      <td>4</td>\n",
              "      <td>A4</td>\n",
              "      <td>X</td>\n",
              "      <td>11.4</td>\n",
              "      <td>230</td>\n",
              "      <td>3</td>\n",
              "      <td>164</td>\n",
              "      <td>9</td>\n",
              "      <td>0</td>\n",
              "      <td>1</td>\n",
              "    </tr>\n",
              "  </tbody>\n",
              "</table>\n",
              "</div>\n",
              "    <div class=\"colab-df-buttons\">\n",
              "\n",
              "  <div class=\"colab-df-container\">\n",
              "    <button class=\"colab-df-convert\" onclick=\"convertToInteractive('df-c6f495e0-3842-45fe-a4bf-f9b41b662bd3')\"\n",
              "            title=\"Convert this dataframe to an interactive table.\"\n",
              "            style=\"display:none;\">\n",
              "\n",
              "  <svg xmlns=\"http://www.w3.org/2000/svg\" height=\"24px\" viewBox=\"0 -960 960 960\">\n",
              "    <path d=\"M120-120v-720h720v720H120Zm60-500h600v-160H180v160Zm220 220h160v-160H400v160Zm0 220h160v-160H400v160ZM180-400h160v-160H180v160Zm440 0h160v-160H620v160ZM180-180h160v-160H180v160Zm440 0h160v-160H620v160Z\"/>\n",
              "  </svg>\n",
              "    </button>\n",
              "\n",
              "  <style>\n",
              "    .colab-df-container {\n",
              "      display:flex;\n",
              "      gap: 12px;\n",
              "    }\n",
              "\n",
              "    .colab-df-convert {\n",
              "      background-color: #E8F0FE;\n",
              "      border: none;\n",
              "      border-radius: 50%;\n",
              "      cursor: pointer;\n",
              "      display: none;\n",
              "      fill: #1967D2;\n",
              "      height: 32px;\n",
              "      padding: 0 0 0 0;\n",
              "      width: 32px;\n",
              "    }\n",
              "\n",
              "    .colab-df-convert:hover {\n",
              "      background-color: #E2EBFA;\n",
              "      box-shadow: 0px 1px 2px rgba(60, 64, 67, 0.3), 0px 1px 3px 1px rgba(60, 64, 67, 0.15);\n",
              "      fill: #174EA6;\n",
              "    }\n",
              "\n",
              "    .colab-df-buttons div {\n",
              "      margin-bottom: 4px;\n",
              "    }\n",
              "\n",
              "    [theme=dark] .colab-df-convert {\n",
              "      background-color: #3B4455;\n",
              "      fill: #D2E3FC;\n",
              "    }\n",
              "\n",
              "    [theme=dark] .colab-df-convert:hover {\n",
              "      background-color: #434B5C;\n",
              "      box-shadow: 0px 1px 3px 1px rgba(0, 0, 0, 0.15);\n",
              "      filter: drop-shadow(0px 1px 2px rgba(0, 0, 0, 0.3));\n",
              "      fill: #FFFFFF;\n",
              "    }\n",
              "  </style>\n",
              "\n",
              "    <script>\n",
              "      const buttonEl =\n",
              "        document.querySelector('#df-c6f495e0-3842-45fe-a4bf-f9b41b662bd3 button.colab-df-convert');\n",
              "      buttonEl.style.display =\n",
              "        google.colab.kernel.accessAllowed ? 'block' : 'none';\n",
              "\n",
              "      async function convertToInteractive(key) {\n",
              "        const element = document.querySelector('#df-c6f495e0-3842-45fe-a4bf-f9b41b662bd3');\n",
              "        const dataTable =\n",
              "          await google.colab.kernel.invokeFunction('convertToInteractive',\n",
              "                                                    [key], {});\n",
              "        if (!dataTable) return;\n",
              "\n",
              "        const docLinkHtml = 'Like what you see? Visit the ' +\n",
              "          '<a target=\"_blank\" href=https://colab.research.google.com/notebooks/data_table.ipynb>data table notebook</a>'\n",
              "          + ' to learn more about interactive tables.';\n",
              "        element.innerHTML = '';\n",
              "        dataTable['output_type'] = 'display_data';\n",
              "        await google.colab.output.renderOutput(dataTable, element);\n",
              "        const docLink = document.createElement('div');\n",
              "        docLink.innerHTML = docLinkHtml;\n",
              "        element.appendChild(docLink);\n",
              "      }\n",
              "    </script>\n",
              "  </div>\n",
              "\n",
              "\n",
              "<div id=\"df-296769c3-4449-4842-b252-9073fe5745de\">\n",
              "  <button class=\"colab-df-quickchart\" onclick=\"quickchart('df-296769c3-4449-4842-b252-9073fe5745de')\"\n",
              "            title=\"Suggest charts\"\n",
              "            style=\"display:none;\">\n",
              "\n",
              "<svg xmlns=\"http://www.w3.org/2000/svg\" height=\"24px\"viewBox=\"0 0 24 24\"\n",
              "     width=\"24px\">\n",
              "    <g>\n",
              "        <path d=\"M19 3H5c-1.1 0-2 .9-2 2v14c0 1.1.9 2 2 2h14c1.1 0 2-.9 2-2V5c0-1.1-.9-2-2-2zM9 17H7v-7h2v7zm4 0h-2V7h2v10zm4 0h-2v-4h2v4z\"/>\n",
              "    </g>\n",
              "</svg>\n",
              "  </button>\n",
              "\n",
              "<style>\n",
              "  .colab-df-quickchart {\n",
              "      --bg-color: #E8F0FE;\n",
              "      --fill-color: #1967D2;\n",
              "      --hover-bg-color: #E2EBFA;\n",
              "      --hover-fill-color: #174EA6;\n",
              "      --disabled-fill-color: #AAA;\n",
              "      --disabled-bg-color: #DDD;\n",
              "  }\n",
              "\n",
              "  [theme=dark] .colab-df-quickchart {\n",
              "      --bg-color: #3B4455;\n",
              "      --fill-color: #D2E3FC;\n",
              "      --hover-bg-color: #434B5C;\n",
              "      --hover-fill-color: #FFFFFF;\n",
              "      --disabled-bg-color: #3B4455;\n",
              "      --disabled-fill-color: #666;\n",
              "  }\n",
              "\n",
              "  .colab-df-quickchart {\n",
              "    background-color: var(--bg-color);\n",
              "    border: none;\n",
              "    border-radius: 50%;\n",
              "    cursor: pointer;\n",
              "    display: none;\n",
              "    fill: var(--fill-color);\n",
              "    height: 32px;\n",
              "    padding: 0;\n",
              "    width: 32px;\n",
              "  }\n",
              "\n",
              "  .colab-df-quickchart:hover {\n",
              "    background-color: var(--hover-bg-color);\n",
              "    box-shadow: 0 1px 2px rgba(60, 64, 67, 0.3), 0 1px 3px 1px rgba(60, 64, 67, 0.15);\n",
              "    fill: var(--button-hover-fill-color);\n",
              "  }\n",
              "\n",
              "  .colab-df-quickchart-complete:disabled,\n",
              "  .colab-df-quickchart-complete:disabled:hover {\n",
              "    background-color: var(--disabled-bg-color);\n",
              "    fill: var(--disabled-fill-color);\n",
              "    box-shadow: none;\n",
              "  }\n",
              "\n",
              "  .colab-df-spinner {\n",
              "    border: 2px solid var(--fill-color);\n",
              "    border-color: transparent;\n",
              "    border-bottom-color: var(--fill-color);\n",
              "    animation:\n",
              "      spin 1s steps(1) infinite;\n",
              "  }\n",
              "\n",
              "  @keyframes spin {\n",
              "    0% {\n",
              "      border-color: transparent;\n",
              "      border-bottom-color: var(--fill-color);\n",
              "      border-left-color: var(--fill-color);\n",
              "    }\n",
              "    20% {\n",
              "      border-color: transparent;\n",
              "      border-left-color: var(--fill-color);\n",
              "      border-top-color: var(--fill-color);\n",
              "    }\n",
              "    30% {\n",
              "      border-color: transparent;\n",
              "      border-left-color: var(--fill-color);\n",
              "      border-top-color: var(--fill-color);\n",
              "      border-right-color: var(--fill-color);\n",
              "    }\n",
              "    40% {\n",
              "      border-color: transparent;\n",
              "      border-right-color: var(--fill-color);\n",
              "      border-top-color: var(--fill-color);\n",
              "    }\n",
              "    60% {\n",
              "      border-color: transparent;\n",
              "      border-right-color: var(--fill-color);\n",
              "    }\n",
              "    80% {\n",
              "      border-color: transparent;\n",
              "      border-right-color: var(--fill-color);\n",
              "      border-bottom-color: var(--fill-color);\n",
              "    }\n",
              "    90% {\n",
              "      border-color: transparent;\n",
              "      border-bottom-color: var(--fill-color);\n",
              "    }\n",
              "  }\n",
              "</style>\n",
              "\n",
              "  <script>\n",
              "    async function quickchart(key) {\n",
              "      const quickchartButtonEl =\n",
              "        document.querySelector('#' + key + ' button');\n",
              "      quickchartButtonEl.disabled = true;  // To prevent multiple clicks.\n",
              "      quickchartButtonEl.classList.add('colab-df-spinner');\n",
              "      try {\n",
              "        const charts = await google.colab.kernel.invokeFunction(\n",
              "            'suggestCharts', [key], {});\n",
              "      } catch (error) {\n",
              "        console.error('Error during call to suggestCharts:', error);\n",
              "      }\n",
              "      quickchartButtonEl.classList.remove('colab-df-spinner');\n",
              "      quickchartButtonEl.classList.add('colab-df-quickchart-complete');\n",
              "    }\n",
              "    (() => {\n",
              "      let quickchartButtonEl =\n",
              "        document.querySelector('#df-296769c3-4449-4842-b252-9073fe5745de button');\n",
              "      quickchartButtonEl.style.display =\n",
              "        google.colab.kernel.accessAllowed ? 'block' : 'none';\n",
              "    })();\n",
              "  </script>\n",
              "</div>\n",
              "\n",
              "    </div>\n",
              "  </div>\n"
            ],
            "text/plain": [
              "   Year   MAKE    MODEL VEHICLE CLASS  ENGINE SIZE  CYLINDERS TRANSMISSION  \\\n",
              "0  2000  ACURA    1.6EL       COMPACT          1.6          4           A4   \n",
              "1  2000  ACURA    1.6EL       COMPACT          1.6          4           M5   \n",
              "2  2000  ACURA    3.2TL      MID-SIZE          3.2          6          AS5   \n",
              "3  2000  ACURA    3.5RL      MID-SIZE          3.5          6           A4   \n",
              "4  2000  ACURA  INTEGRA    SUBCOMPACT          1.8          4           A4   \n",
              "\n",
              "  FUEL  FUEL CONSUMPTION  COEMISSIONS   fuel_encoded  MODEL_encoded  \\\n",
              "0    X              10.5           216             3              0   \n",
              "1    X               9.8           205             3              0   \n",
              "2    Z              13.7           265             4              1   \n",
              "3    Z              15.0           301             4              2   \n",
              "4    X              11.4           230             3            164   \n",
              "\n",
              "   CLASS_encoded  MAKE_encoded  TRANSMISSION_encoded  \n",
              "0              0             0                     1  \n",
              "1              0             0                     6  \n",
              "2              2             0                     4  \n",
              "3              2             0                     1  \n",
              "4              9             0                     1  "
            ]
          },
          "execution_count": 137,
          "metadata": {},
          "output_type": "execute_result"
        }
      ],
      "source": [
        "data.head()"
      ]
    },
    {
      "cell_type": "code",
      "execution_count": null,
      "id": "k5I67VItKm5l",
      "metadata": {
        "colab": {
          "base_uri": "https://localhost:8080/",
          "height": 206
        },
        "id": "k5I67VItKm5l",
        "outputId": "2c9a9f47-6d31-4068-d9e1-17303c093bf6"
      },
      "outputs": [
        {
          "data": {
            "application/vnd.google.colaboratory.intrinsic+json": {
              "summary": "{\n  \"name\": \"numeric_data\",\n  \"rows\": 639,\n  \"fields\": [\n    {\n      \"column\": \"Year\",\n      \"properties\": {\n        \"dtype\": \"number\",\n        \"std\": 0,\n        \"min\": 2000,\n        \"max\": 2000,\n        \"num_unique_values\": 1,\n        \"samples\": [\n          2000\n        ],\n        \"semantic_type\": \"\",\n        \"description\": \"\"\n      }\n    },\n    {\n      \"column\": \"ENGINE SIZE\",\n      \"properties\": {\n        \"dtype\": \"number\",\n        \"std\": 1.2310121715436393,\n        \"min\": 1.0,\n        \"max\": 8.0,\n        \"num_unique_values\": 40,\n        \"samples\": [\n          6.0\n        ],\n        \"semantic_type\": \"\",\n        \"description\": \"\"\n      }\n    },\n    {\n      \"column\": \"CYLINDERS\",\n      \"properties\": {\n        \"dtype\": \"number\",\n        \"std\": 1,\n        \"min\": 3,\n        \"max\": 12,\n        \"num_unique_values\": 7,\n        \"samples\": [\n          4\n        ],\n        \"semantic_type\": \"\",\n        \"description\": \"\"\n      }\n    },\n    {\n      \"column\": \"FUEL CONSUMPTION\",\n      \"properties\": {\n        \"dtype\": \"number\",\n        \"std\": 3.307043767251958,\n        \"min\": 4.9,\n        \"max\": 30.2,\n        \"num_unique_values\": 124,\n        \"samples\": [\n          13.1\n        ],\n        \"semantic_type\": \"\",\n        \"description\": \"\"\n      }\n    },\n    {\n      \"column\": \"COEMISSIONS \",\n      \"properties\": {\n        \"dtype\": \"number\",\n        \"std\": 65,\n        \"min\": 104,\n        \"max\": 582,\n        \"num_unique_values\": 116,\n        \"samples\": [\n          474\n        ],\n        \"semantic_type\": \"\",\n        \"description\": \"\"\n      }\n    },\n    {\n      \"column\": \"fuel_encoded\",\n      \"properties\": {\n        \"dtype\": \"number\",\n        \"std\": 0,\n        \"min\": 0,\n        \"max\": 4,\n        \"num_unique_values\": 5,\n        \"samples\": [\n          4\n        ],\n        \"semantic_type\": \"\",\n        \"description\": \"\"\n      }\n    },\n    {\n      \"column\": \"MODEL_encoded\",\n      \"properties\": {\n        \"dtype\": \"number\",\n        \"std\": 91,\n        \"min\": 0,\n        \"max\": 327,\n        \"num_unique_values\": 328,\n        \"samples\": [\n          195\n        ],\n        \"semantic_type\": \"\",\n        \"description\": \"\"\n      }\n    },\n    {\n      \"column\": \"CLASS_encoded\",\n      \"properties\": {\n        \"dtype\": \"number\",\n        \"std\": 4,\n        \"min\": 0,\n        \"max\": 13,\n        \"num_unique_values\": 14,\n        \"samples\": [\n          12\n        ],\n        \"semantic_type\": \"\",\n        \"description\": \"\"\n      }\n    },\n    {\n      \"column\": \"MAKE_encoded\",\n      \"properties\": {\n        \"dtype\": \"number\",\n        \"std\": 11,\n        \"min\": 0,\n        \"max\": 35,\n        \"num_unique_values\": 36,\n        \"samples\": [\n          35\n        ],\n        \"semantic_type\": \"\",\n        \"description\": \"\"\n      }\n    },\n    {\n      \"column\": \"TRANSMISSION_encoded\",\n      \"properties\": {\n        \"dtype\": \"number\",\n        \"std\": 2,\n        \"min\": 0,\n        \"max\": 7,\n        \"num_unique_values\": 8,\n        \"samples\": [\n          6\n        ],\n        \"semantic_type\": \"\",\n        \"description\": \"\"\n      }\n    }\n  ]\n}",
              "type": "dataframe",
              "variable_name": "numeric_data"
            },
            "text/html": [
              "\n",
              "  <div id=\"df-e6aef7b3-7599-4188-b598-964295b9c992\" class=\"colab-df-container\">\n",
              "    <div>\n",
              "<style scoped>\n",
              "    .dataframe tbody tr th:only-of-type {\n",
              "        vertical-align: middle;\n",
              "    }\n",
              "\n",
              "    .dataframe tbody tr th {\n",
              "        vertical-align: top;\n",
              "    }\n",
              "\n",
              "    .dataframe thead th {\n",
              "        text-align: right;\n",
              "    }\n",
              "</style>\n",
              "<table border=\"1\" class=\"dataframe\">\n",
              "  <thead>\n",
              "    <tr style=\"text-align: right;\">\n",
              "      <th></th>\n",
              "      <th>Year</th>\n",
              "      <th>ENGINE SIZE</th>\n",
              "      <th>CYLINDERS</th>\n",
              "      <th>FUEL CONSUMPTION</th>\n",
              "      <th>COEMISSIONS</th>\n",
              "      <th>fuel_encoded</th>\n",
              "      <th>MODEL_encoded</th>\n",
              "      <th>CLASS_encoded</th>\n",
              "      <th>MAKE_encoded</th>\n",
              "      <th>TRANSMISSION_encoded</th>\n",
              "    </tr>\n",
              "  </thead>\n",
              "  <tbody>\n",
              "    <tr>\n",
              "      <th>0</th>\n",
              "      <td>2000</td>\n",
              "      <td>1.6</td>\n",
              "      <td>4</td>\n",
              "      <td>10.5</td>\n",
              "      <td>216</td>\n",
              "      <td>3</td>\n",
              "      <td>0</td>\n",
              "      <td>0</td>\n",
              "      <td>0</td>\n",
              "      <td>1</td>\n",
              "    </tr>\n",
              "    <tr>\n",
              "      <th>1</th>\n",
              "      <td>2000</td>\n",
              "      <td>1.6</td>\n",
              "      <td>4</td>\n",
              "      <td>9.8</td>\n",
              "      <td>205</td>\n",
              "      <td>3</td>\n",
              "      <td>0</td>\n",
              "      <td>0</td>\n",
              "      <td>0</td>\n",
              "      <td>6</td>\n",
              "    </tr>\n",
              "    <tr>\n",
              "      <th>2</th>\n",
              "      <td>2000</td>\n",
              "      <td>3.2</td>\n",
              "      <td>6</td>\n",
              "      <td>13.7</td>\n",
              "      <td>265</td>\n",
              "      <td>4</td>\n",
              "      <td>1</td>\n",
              "      <td>2</td>\n",
              "      <td>0</td>\n",
              "      <td>4</td>\n",
              "    </tr>\n",
              "    <tr>\n",
              "      <th>3</th>\n",
              "      <td>2000</td>\n",
              "      <td>3.5</td>\n",
              "      <td>6</td>\n",
              "      <td>15.0</td>\n",
              "      <td>301</td>\n",
              "      <td>4</td>\n",
              "      <td>2</td>\n",
              "      <td>2</td>\n",
              "      <td>0</td>\n",
              "      <td>1</td>\n",
              "    </tr>\n",
              "    <tr>\n",
              "      <th>4</th>\n",
              "      <td>2000</td>\n",
              "      <td>1.8</td>\n",
              "      <td>4</td>\n",
              "      <td>11.4</td>\n",
              "      <td>230</td>\n",
              "      <td>3</td>\n",
              "      <td>164</td>\n",
              "      <td>9</td>\n",
              "      <td>0</td>\n",
              "      <td>1</td>\n",
              "    </tr>\n",
              "  </tbody>\n",
              "</table>\n",
              "</div>\n",
              "    <div class=\"colab-df-buttons\">\n",
              "\n",
              "  <div class=\"colab-df-container\">\n",
              "    <button class=\"colab-df-convert\" onclick=\"convertToInteractive('df-e6aef7b3-7599-4188-b598-964295b9c992')\"\n",
              "            title=\"Convert this dataframe to an interactive table.\"\n",
              "            style=\"display:none;\">\n",
              "\n",
              "  <svg xmlns=\"http://www.w3.org/2000/svg\" height=\"24px\" viewBox=\"0 -960 960 960\">\n",
              "    <path d=\"M120-120v-720h720v720H120Zm60-500h600v-160H180v160Zm220 220h160v-160H400v160Zm0 220h160v-160H400v160ZM180-400h160v-160H180v160Zm440 0h160v-160H620v160ZM180-180h160v-160H180v160Zm440 0h160v-160H620v160Z\"/>\n",
              "  </svg>\n",
              "    </button>\n",
              "\n",
              "  <style>\n",
              "    .colab-df-container {\n",
              "      display:flex;\n",
              "      gap: 12px;\n",
              "    }\n",
              "\n",
              "    .colab-df-convert {\n",
              "      background-color: #E8F0FE;\n",
              "      border: none;\n",
              "      border-radius: 50%;\n",
              "      cursor: pointer;\n",
              "      display: none;\n",
              "      fill: #1967D2;\n",
              "      height: 32px;\n",
              "      padding: 0 0 0 0;\n",
              "      width: 32px;\n",
              "    }\n",
              "\n",
              "    .colab-df-convert:hover {\n",
              "      background-color: #E2EBFA;\n",
              "      box-shadow: 0px 1px 2px rgba(60, 64, 67, 0.3), 0px 1px 3px 1px rgba(60, 64, 67, 0.15);\n",
              "      fill: #174EA6;\n",
              "    }\n",
              "\n",
              "    .colab-df-buttons div {\n",
              "      margin-bottom: 4px;\n",
              "    }\n",
              "\n",
              "    [theme=dark] .colab-df-convert {\n",
              "      background-color: #3B4455;\n",
              "      fill: #D2E3FC;\n",
              "    }\n",
              "\n",
              "    [theme=dark] .colab-df-convert:hover {\n",
              "      background-color: #434B5C;\n",
              "      box-shadow: 0px 1px 3px 1px rgba(0, 0, 0, 0.15);\n",
              "      filter: drop-shadow(0px 1px 2px rgba(0, 0, 0, 0.3));\n",
              "      fill: #FFFFFF;\n",
              "    }\n",
              "  </style>\n",
              "\n",
              "    <script>\n",
              "      const buttonEl =\n",
              "        document.querySelector('#df-e6aef7b3-7599-4188-b598-964295b9c992 button.colab-df-convert');\n",
              "      buttonEl.style.display =\n",
              "        google.colab.kernel.accessAllowed ? 'block' : 'none';\n",
              "\n",
              "      async function convertToInteractive(key) {\n",
              "        const element = document.querySelector('#df-e6aef7b3-7599-4188-b598-964295b9c992');\n",
              "        const dataTable =\n",
              "          await google.colab.kernel.invokeFunction('convertToInteractive',\n",
              "                                                    [key], {});\n",
              "        if (!dataTable) return;\n",
              "\n",
              "        const docLinkHtml = 'Like what you see? Visit the ' +\n",
              "          '<a target=\"_blank\" href=https://colab.research.google.com/notebooks/data_table.ipynb>data table notebook</a>'\n",
              "          + ' to learn more about interactive tables.';\n",
              "        element.innerHTML = '';\n",
              "        dataTable['output_type'] = 'display_data';\n",
              "        await google.colab.output.renderOutput(dataTable, element);\n",
              "        const docLink = document.createElement('div');\n",
              "        docLink.innerHTML = docLinkHtml;\n",
              "        element.appendChild(docLink);\n",
              "      }\n",
              "    </script>\n",
              "  </div>\n",
              "\n",
              "\n",
              "<div id=\"df-adae9498-87bf-4baf-8cd4-7a8598f6a864\">\n",
              "  <button class=\"colab-df-quickchart\" onclick=\"quickchart('df-adae9498-87bf-4baf-8cd4-7a8598f6a864')\"\n",
              "            title=\"Suggest charts\"\n",
              "            style=\"display:none;\">\n",
              "\n",
              "<svg xmlns=\"http://www.w3.org/2000/svg\" height=\"24px\"viewBox=\"0 0 24 24\"\n",
              "     width=\"24px\">\n",
              "    <g>\n",
              "        <path d=\"M19 3H5c-1.1 0-2 .9-2 2v14c0 1.1.9 2 2 2h14c1.1 0 2-.9 2-2V5c0-1.1-.9-2-2-2zM9 17H7v-7h2v7zm4 0h-2V7h2v10zm4 0h-2v-4h2v4z\"/>\n",
              "    </g>\n",
              "</svg>\n",
              "  </button>\n",
              "\n",
              "<style>\n",
              "  .colab-df-quickchart {\n",
              "      --bg-color: #E8F0FE;\n",
              "      --fill-color: #1967D2;\n",
              "      --hover-bg-color: #E2EBFA;\n",
              "      --hover-fill-color: #174EA6;\n",
              "      --disabled-fill-color: #AAA;\n",
              "      --disabled-bg-color: #DDD;\n",
              "  }\n",
              "\n",
              "  [theme=dark] .colab-df-quickchart {\n",
              "      --bg-color: #3B4455;\n",
              "      --fill-color: #D2E3FC;\n",
              "      --hover-bg-color: #434B5C;\n",
              "      --hover-fill-color: #FFFFFF;\n",
              "      --disabled-bg-color: #3B4455;\n",
              "      --disabled-fill-color: #666;\n",
              "  }\n",
              "\n",
              "  .colab-df-quickchart {\n",
              "    background-color: var(--bg-color);\n",
              "    border: none;\n",
              "    border-radius: 50%;\n",
              "    cursor: pointer;\n",
              "    display: none;\n",
              "    fill: var(--fill-color);\n",
              "    height: 32px;\n",
              "    padding: 0;\n",
              "    width: 32px;\n",
              "  }\n",
              "\n",
              "  .colab-df-quickchart:hover {\n",
              "    background-color: var(--hover-bg-color);\n",
              "    box-shadow: 0 1px 2px rgba(60, 64, 67, 0.3), 0 1px 3px 1px rgba(60, 64, 67, 0.15);\n",
              "    fill: var(--button-hover-fill-color);\n",
              "  }\n",
              "\n",
              "  .colab-df-quickchart-complete:disabled,\n",
              "  .colab-df-quickchart-complete:disabled:hover {\n",
              "    background-color: var(--disabled-bg-color);\n",
              "    fill: var(--disabled-fill-color);\n",
              "    box-shadow: none;\n",
              "  }\n",
              "\n",
              "  .colab-df-spinner {\n",
              "    border: 2px solid var(--fill-color);\n",
              "    border-color: transparent;\n",
              "    border-bottom-color: var(--fill-color);\n",
              "    animation:\n",
              "      spin 1s steps(1) infinite;\n",
              "  }\n",
              "\n",
              "  @keyframes spin {\n",
              "    0% {\n",
              "      border-color: transparent;\n",
              "      border-bottom-color: var(--fill-color);\n",
              "      border-left-color: var(--fill-color);\n",
              "    }\n",
              "    20% {\n",
              "      border-color: transparent;\n",
              "      border-left-color: var(--fill-color);\n",
              "      border-top-color: var(--fill-color);\n",
              "    }\n",
              "    30% {\n",
              "      border-color: transparent;\n",
              "      border-left-color: var(--fill-color);\n",
              "      border-top-color: var(--fill-color);\n",
              "      border-right-color: var(--fill-color);\n",
              "    }\n",
              "    40% {\n",
              "      border-color: transparent;\n",
              "      border-right-color: var(--fill-color);\n",
              "      border-top-color: var(--fill-color);\n",
              "    }\n",
              "    60% {\n",
              "      border-color: transparent;\n",
              "      border-right-color: var(--fill-color);\n",
              "    }\n",
              "    80% {\n",
              "      border-color: transparent;\n",
              "      border-right-color: var(--fill-color);\n",
              "      border-bottom-color: var(--fill-color);\n",
              "    }\n",
              "    90% {\n",
              "      border-color: transparent;\n",
              "      border-bottom-color: var(--fill-color);\n",
              "    }\n",
              "  }\n",
              "</style>\n",
              "\n",
              "  <script>\n",
              "    async function quickchart(key) {\n",
              "      const quickchartButtonEl =\n",
              "        document.querySelector('#' + key + ' button');\n",
              "      quickchartButtonEl.disabled = true;  // To prevent multiple clicks.\n",
              "      quickchartButtonEl.classList.add('colab-df-spinner');\n",
              "      try {\n",
              "        const charts = await google.colab.kernel.invokeFunction(\n",
              "            'suggestCharts', [key], {});\n",
              "      } catch (error) {\n",
              "        console.error('Error during call to suggestCharts:', error);\n",
              "      }\n",
              "      quickchartButtonEl.classList.remove('colab-df-spinner');\n",
              "      quickchartButtonEl.classList.add('colab-df-quickchart-complete');\n",
              "    }\n",
              "    (() => {\n",
              "      let quickchartButtonEl =\n",
              "        document.querySelector('#df-adae9498-87bf-4baf-8cd4-7a8598f6a864 button');\n",
              "      quickchartButtonEl.style.display =\n",
              "        google.colab.kernel.accessAllowed ? 'block' : 'none';\n",
              "    })();\n",
              "  </script>\n",
              "</div>\n",
              "\n",
              "    </div>\n",
              "  </div>\n"
            ],
            "text/plain": [
              "   Year  ENGINE SIZE  CYLINDERS  FUEL CONSUMPTION  COEMISSIONS   fuel_encoded  \\\n",
              "0  2000          1.6          4              10.5           216             3   \n",
              "1  2000          1.6          4               9.8           205             3   \n",
              "2  2000          3.2          6              13.7           265             4   \n",
              "3  2000          3.5          6              15.0           301             4   \n",
              "4  2000          1.8          4              11.4           230             3   \n",
              "\n",
              "   MODEL_encoded  CLASS_encoded  MAKE_encoded  TRANSMISSION_encoded  \n",
              "0              0              0             0                     1  \n",
              "1              0              0             0                     6  \n",
              "2              1              2             0                     4  \n",
              "3              2              2             0                     1  \n",
              "4            164              9             0                     1  "
            ]
          },
          "execution_count": 138,
          "metadata": {},
          "output_type": "execute_result"
        }
      ],
      "source": [
        "numeric_data = data.select_dtypes(include=[np.number])\n",
        "numeric_data.head()"
      ]
    },
    {
      "cell_type": "code",
      "execution_count": null,
      "id": "ufuMXsk4FFhW",
      "metadata": {
        "id": "ufuMXsk4FFhW"
      },
      "outputs": [],
      "source": [
        "from sklearn.preprocessing import StandardScaler"
      ]
    },
    {
      "cell_type": "code",
      "execution_count": null,
      "id": "JfMWfyY_FUrE",
      "metadata": {
        "id": "JfMWfyY_FUrE"
      },
      "outputs": [],
      "source": [
        "##independent and dependent features\n",
        "X = data[['ENGINE SIZE', 'CYLINDERS', 'COEMISSIONS ','fuel_encoded','CLASS_encoded','MAKE_encoded','MODEL_encoded','TRANSMISSION_encoded']]\n",
        "y=data['FUEL CONSUMPTION']"
      ]
    },
    {
      "cell_type": "code",
      "execution_count": null,
      "id": "mwiBitxgFIKP",
      "metadata": {
        "id": "mwiBitxgFIKP"
      },
      "outputs": [],
      "source": [
        "# train test split\n",
        "from sklearn.model_selection import train_test_split\n",
        "X_train,X_test,y_train,y_test=train_test_split(X,y,test_size=0.25,random_state=42)"
      ]
    },
    {
      "cell_type": "code",
      "execution_count": null,
      "id": "Tt4j8jXrFOKQ",
      "metadata": {
        "id": "Tt4j8jXrFOKQ"
      },
      "outputs": [],
      "source": [
        "scaler=StandardScaler()\n",
        "X_train=scaler.fit_transform(X_train)\n",
        "X_test=scaler.transform(X_test)"
      ]
    },
    {
      "cell_type": "markdown",
      "id": "24bcab64",
      "metadata": {
        "id": "24bcab64",
        "papermill": {
          "duration": 0.007718,
          "end_time": "2024-04-26T15:46:18.285961",
          "exception": false,
          "start_time": "2024-04-26T15:46:18.278243",
          "status": "completed"
        },
        "tags": []
      },
      "source": [
        "# Model"
      ]
    },
    {
      "cell_type": "code",
      "execution_count": null,
      "id": "103a2e1c",
      "metadata": {
        "execution": {
          "iopub.execute_input": "2024-04-26T15:46:18.904937Z",
          "iopub.status.busy": "2024-04-26T15:46:18.903957Z",
          "iopub.status.idle": "2024-04-26T15:46:18.933086Z",
          "shell.execute_reply": "2024-04-26T15:46:18.931763Z"
        },
        "id": "103a2e1c",
        "papermill": {
          "duration": 0.040428,
          "end_time": "2024-04-26T15:46:18.935683",
          "exception": false,
          "start_time": "2024-04-26T15:46:18.895255",
          "status": "completed"
        },
        "tags": []
      },
      "outputs": [],
      "source": [
        "from sklearn.linear_model import LinearRegression\n",
        "regression=LinearRegression()"
      ]
    },
    {
      "cell_type": "code",
      "execution_count": null,
      "id": "X_G1zF8VF8YV",
      "metadata": {
        "colab": {
          "base_uri": "https://localhost:8080/",
          "height": 74
        },
        "id": "X_G1zF8VF8YV",
        "outputId": "7bf85402-928b-4b88-dd69-738836219123"
      },
      "outputs": [
        {
          "data": {
            "text/html": [
              "<style>#sk-container-id-6 {color: black;background-color: white;}#sk-container-id-6 pre{padding: 0;}#sk-container-id-6 div.sk-toggleable {background-color: white;}#sk-container-id-6 label.sk-toggleable__label {cursor: pointer;display: block;width: 100%;margin-bottom: 0;padding: 0.3em;box-sizing: border-box;text-align: center;}#sk-container-id-6 label.sk-toggleable__label-arrow:before {content: \"▸\";float: left;margin-right: 0.25em;color: #696969;}#sk-container-id-6 label.sk-toggleable__label-arrow:hover:before {color: black;}#sk-container-id-6 div.sk-estimator:hover label.sk-toggleable__label-arrow:before {color: black;}#sk-container-id-6 div.sk-toggleable__content {max-height: 0;max-width: 0;overflow: hidden;text-align: left;background-color: #f0f8ff;}#sk-container-id-6 div.sk-toggleable__content pre {margin: 0.2em;color: black;border-radius: 0.25em;background-color: #f0f8ff;}#sk-container-id-6 input.sk-toggleable__control:checked~div.sk-toggleable__content {max-height: 200px;max-width: 100%;overflow: auto;}#sk-container-id-6 input.sk-toggleable__control:checked~label.sk-toggleable__label-arrow:before {content: \"▾\";}#sk-container-id-6 div.sk-estimator input.sk-toggleable__control:checked~label.sk-toggleable__label {background-color: #d4ebff;}#sk-container-id-6 div.sk-label input.sk-toggleable__control:checked~label.sk-toggleable__label {background-color: #d4ebff;}#sk-container-id-6 input.sk-hidden--visually {border: 0;clip: rect(1px 1px 1px 1px);clip: rect(1px, 1px, 1px, 1px);height: 1px;margin: -1px;overflow: hidden;padding: 0;position: absolute;width: 1px;}#sk-container-id-6 div.sk-estimator {font-family: monospace;background-color: #f0f8ff;border: 1px dotted black;border-radius: 0.25em;box-sizing: border-box;margin-bottom: 0.5em;}#sk-container-id-6 div.sk-estimator:hover {background-color: #d4ebff;}#sk-container-id-6 div.sk-parallel-item::after {content: \"\";width: 100%;border-bottom: 1px solid gray;flex-grow: 1;}#sk-container-id-6 div.sk-label:hover label.sk-toggleable__label {background-color: #d4ebff;}#sk-container-id-6 div.sk-serial::before {content: \"\";position: absolute;border-left: 1px solid gray;box-sizing: border-box;top: 0;bottom: 0;left: 50%;z-index: 0;}#sk-container-id-6 div.sk-serial {display: flex;flex-direction: column;align-items: center;background-color: white;padding-right: 0.2em;padding-left: 0.2em;position: relative;}#sk-container-id-6 div.sk-item {position: relative;z-index: 1;}#sk-container-id-6 div.sk-parallel {display: flex;align-items: stretch;justify-content: center;background-color: white;position: relative;}#sk-container-id-6 div.sk-item::before, #sk-container-id-6 div.sk-parallel-item::before {content: \"\";position: absolute;border-left: 1px solid gray;box-sizing: border-box;top: 0;bottom: 0;left: 50%;z-index: -1;}#sk-container-id-6 div.sk-parallel-item {display: flex;flex-direction: column;z-index: 1;position: relative;background-color: white;}#sk-container-id-6 div.sk-parallel-item:first-child::after {align-self: flex-end;width: 50%;}#sk-container-id-6 div.sk-parallel-item:last-child::after {align-self: flex-start;width: 50%;}#sk-container-id-6 div.sk-parallel-item:only-child::after {width: 0;}#sk-container-id-6 div.sk-dashed-wrapped {border: 1px dashed gray;margin: 0 0.4em 0.5em 0.4em;box-sizing: border-box;padding-bottom: 0.4em;background-color: white;}#sk-container-id-6 div.sk-label label {font-family: monospace;font-weight: bold;display: inline-block;line-height: 1.2em;}#sk-container-id-6 div.sk-label-container {text-align: center;}#sk-container-id-6 div.sk-container {/* jupyter's `normalize.less` sets `[hidden] { display: none; }` but bootstrap.min.css set `[hidden] { display: none !important; }` so we also need the `!important` here to be able to override the default hidden behavior on the sphinx rendered scikit-learn.org. See: https://github.com/scikit-learn/scikit-learn/issues/21755 */display: inline-block !important;position: relative;}#sk-container-id-6 div.sk-text-repr-fallback {display: none;}</style><div id=\"sk-container-id-6\" class=\"sk-top-container\"><div class=\"sk-text-repr-fallback\"><pre>LinearRegression()</pre><b>In a Jupyter environment, please rerun this cell to show the HTML representation or trust the notebook. <br />On GitHub, the HTML representation is unable to render, please try loading this page with nbviewer.org.</b></div><div class=\"sk-container\" hidden><div class=\"sk-item\"><div class=\"sk-estimator sk-toggleable\"><input class=\"sk-toggleable__control sk-hidden--visually\" id=\"sk-estimator-id-6\" type=\"checkbox\" checked><label for=\"sk-estimator-id-6\" class=\"sk-toggleable__label sk-toggleable__label-arrow\">LinearRegression</label><div class=\"sk-toggleable__content\"><pre>LinearRegression()</pre></div></div></div></div></div>"
            ],
            "text/plain": [
              "LinearRegression()"
            ]
          },
          "execution_count": 149,
          "metadata": {},
          "output_type": "execute_result"
        }
      ],
      "source": [
        "regression.fit(X_train,y_train)"
      ]
    },
    {
      "cell_type": "code",
      "execution_count": null,
      "id": "0kDtXcK2F_lQ",
      "metadata": {
        "id": "0kDtXcK2F_lQ"
      },
      "outputs": [],
      "source": [
        "y_pred=regression.predict(X_test)"
      ]
    },
    {
      "cell_type": "code",
      "execution_count": null,
      "id": "yA9RNgL4GCgA",
      "metadata": {
        "colab": {
          "base_uri": "https://localhost:8080/"
        },
        "id": "yA9RNgL4GCgA",
        "outputId": "ca472a5c-c3d9-4716-a85b-25ce419f4203"
      },
      "outputs": [
        {
          "data": {
            "text/plain": [
              "array([13.50544332, 17.75448907, 14.48755935, 24.68794294, 14.15226596,\n",
              "       13.42036074, 14.79423181, 15.2906583 , 20.47389501, 16.49399613,\n",
              "       11.35096999, 11.70232432, 15.58195849, 11.19176491, 12.38146496,\n",
              "       10.11148479, 13.35077798, 12.4939755 , 10.04892975, 11.4479689 ,\n",
              "       14.10977505, 17.59636514, 15.82983914, 12.24459673, 16.29165701,\n",
              "       21.20599175, 21.1856554 , 11.40049799,  9.06161533, 14.69611575,\n",
              "       15.33257959, 13.82395445, 19.03276799, 17.14673096, 15.20287676,\n",
              "       11.43789017, 13.57525352, 18.4337894 , 12.28278594, 11.80040541,\n",
              "       14.73076397, 10.09987615, 28.65228957, 12.65575024, 19.33379691,\n",
              "       12.63339266, 15.42187856, 18.10920664, 15.03549399, 12.39396977,\n",
              "       13.9955501 , 12.19556859, 15.67830105, 14.25988374, 15.1765913 ,\n",
              "       20.08891452, 18.43802607, 11.8762774 , 25.51693922, 19.54515981,\n",
              "       18.84849715, 17.41186823, 17.53934063, 11.21349771, 15.88536241,\n",
              "       16.15919541, 11.58212484, 13.99795183, 15.22521533, 13.51596337,\n",
              "       11.06527849, 19.32502534, 16.87642923, 11.04192697, 18.95045933,\n",
              "       18.81253593, 13.16467058, 21.95481942, 13.73535805, 12.02634545,\n",
              "       15.47594786, 20.79343783, 14.63643818, 17.27739654, 23.04601569,\n",
              "       13.3154649 , 15.59721175, 14.51996601, 15.51469696, 19.67174957,\n",
              "       13.07822149, 15.84356721, 13.3571344 , 18.90103847, 13.12607715,\n",
              "       18.64719821, 19.35992468, 15.16075527, 17.21448369, 10.09795483,\n",
              "       15.30467126, 14.12222243, 12.7032839 , 18.85259769, 12.80800817,\n",
              "       13.02322891, 14.53902408, 14.50277081, 16.38434968, 18.27896479,\n",
              "        9.20893995, 17.54840043, 11.81851391, 19.93471198, 16.36162652,\n",
              "       11.18908514, 19.85296988, 12.08666862, 12.79155917, 12.0191917 ,\n",
              "       15.00643038, 12.21868177, 25.5167159 , 14.95924268, 17.31189898,\n",
              "       18.31233325, 17.01457738, 15.50384278, 11.28993005, 19.02090077,\n",
              "       18.60713645, 18.90715663, 17.68119354, 12.02366568, 11.5064562 ,\n",
              "       15.09153702,  9.47856757, 18.80000563, 15.58167618, 13.39765521,\n",
              "        7.3212206 , 17.45670353, 17.48777654, 15.17898486, 19.90842085,\n",
              "       13.2863762 , 12.94660136, 17.09242696, 11.84877451, 12.1095289 ,\n",
              "       12.85039598, 13.11223611, 21.10480886, 11.01762266, 13.26183039,\n",
              "       16.51972377, 11.18171787, 14.84220212, 14.50185991, 13.37680325])"
            ]
          },
          "execution_count": 151,
          "metadata": {},
          "output_type": "execute_result"
        }
      ],
      "source": [
        "y_pred\n"
      ]
    },
    {
      "cell_type": "code",
      "execution_count": null,
      "id": "cGWz07Y0GF3o",
      "metadata": {
        "colab": {
          "base_uri": "https://localhost:8080/"
        },
        "id": "cGWz07Y0GF3o",
        "outputId": "cf07f3c5-36d9-4b2b-da2c-4534b2dd9c47"
      },
      "outputs": [
        {
          "name": "stdout",
          "output_type": "stream",
          "text": [
            "0.26664183773765193\n",
            "0.3433431022445073\n",
            "0.5163737384275578\n"
          ]
        }
      ],
      "source": [
        "from sklearn.metrics import mean_absolute_error,mean_squared_error\n",
        "mse=mean_squared_error(y_test,y_pred)\n",
        "mae=mean_absolute_error(y_test,y_pred)\n",
        "rmse=np.sqrt(mse)\n",
        "print(mse)\n",
        "print(mae)\n",
        "print(rmse)"
      ]
    },
    {
      "cell_type": "code",
      "execution_count": null,
      "id": "85LoJ3fLGIgr",
      "metadata": {
        "colab": {
          "base_uri": "https://localhost:8080/"
        },
        "id": "85LoJ3fLGIgr",
        "outputId": "27efcf61-9736-4a8a-95ec-bb6f679876d1"
      },
      "outputs": [
        {
          "name": "stdout",
          "output_type": "stream",
          "text": [
            "0.9804954492081523\n",
            "0.979462095523816\n"
          ]
        }
      ],
      "source": [
        "from sklearn.metrics import r2_score\n",
        "score=r2_score(y_test,y_pred)\n",
        "print(score)\n",
        "#display adjusted R-squared\n",
        "print(1 - (1-score)*(len(y_test)-1)/(len(y_test)-X_test.shape[1]-1))"
      ]
    },
    {
      "cell_type": "markdown",
      "id": "-KJu4PUcGyt1",
      "metadata": {
        "id": "-KJu4PUcGyt1"
      },
      "source": [
        "***cross validation***"
      ]
    },
    {
      "cell_type": "code",
      "execution_count": null,
      "id": "0HQE-n6OGxwq",
      "metadata": {
        "id": "0HQE-n6OGxwq"
      },
      "outputs": [],
      "source": [
        "## cross validation\n",
        "from sklearn.model_selection import cross_val_score\n",
        "validation_score=cross_val_score(regression,X_train,y_train,scoring='neg_mean_squared_error',\n",
        "                                cv=3)"
      ]
    },
    {
      "cell_type": "code",
      "execution_count": null,
      "id": "s3K8cqmTG5Ie",
      "metadata": {
        "colab": {
          "base_uri": "https://localhost:8080/"
        },
        "id": "s3K8cqmTG5Ie",
        "outputId": "75fb0620-72c8-4623-da09-2cf01894e958"
      },
      "outputs": [
        {
          "data": {
            "text/plain": [
              "-0.37680317080852155"
            ]
          },
          "execution_count": 155,
          "metadata": {},
          "output_type": "execute_result"
        }
      ],
      "source": [
        "np.mean(validation_score)"
      ]
    },
    {
      "cell_type": "code",
      "execution_count": null,
      "id": "U85NQvw8G7AB",
      "metadata": {
        "id": "U85NQvw8G7AB"
      },
      "outputs": [],
      "source": [
        "## prediction\n",
        "y_pred=regression.predict(X_test)"
      ]
    },
    {
      "cell_type": "code",
      "execution_count": null,
      "id": "CgmapG6xG9a3",
      "metadata": {
        "colab": {
          "base_uri": "https://localhost:8080/"
        },
        "id": "CgmapG6xG9a3",
        "outputId": "a0449e94-ebc0-44c9-d34d-6da29fa25ac9"
      },
      "outputs": [
        {
          "name": "stdout",
          "output_type": "stream",
          "text": [
            "0.26664183773765193\n",
            "0.3433431022445073\n",
            "0.5163737384275578\n"
          ]
        }
      ],
      "source": [
        "## Performance Metrics\n",
        "from sklearn.metrics import mean_absolute_error,mean_squared_error\n",
        "mse=mean_squared_error(y_test,y_pred)\n",
        "mae=mean_absolute_error(y_test,y_pred)\n",
        "rmse=np.sqrt(mse)\n",
        "print(mse)\n",
        "print(mae)\n",
        "print(rmse)"
      ]
    },
    {
      "cell_type": "code",
      "execution_count": null,
      "id": "ULPXB9PtHAi4",
      "metadata": {
        "colab": {
          "base_uri": "https://localhost:8080/"
        },
        "id": "ULPXB9PtHAi4",
        "outputId": "3e9763c5-62c6-4e53-cbae-e55e39ac4e6e"
      },
      "outputs": [
        {
          "name": "stdout",
          "output_type": "stream",
          "text": [
            "0.9804954492081523\n",
            "0.979462095523816\n"
          ]
        }
      ],
      "source": [
        "from sklearn.metrics import r2_score\n",
        "score=r2_score(y_test,y_pred)\n",
        "print(score)\n",
        "#display adjusted R-squared\n",
        "print(1 - (1-score)*(len(y_test)-1)/(len(y_test)-X_test.shape[1]-1))"
      ]
    },
    {
      "cell_type": "markdown",
      "id": "453d6ac6",
      "metadata": {
        "id": "453d6ac6",
        "papermill": {
          "duration": 0.006834,
          "end_time": "2024-04-26T15:46:19.030547",
          "exception": false,
          "start_time": "2024-04-26T15:46:19.023713",
          "status": "completed"
        },
        "tags": []
      },
      "source": [
        "# Plots and Analysis"
      ]
    },
    {
      "cell_type": "code",
      "execution_count": null,
      "id": "f15be119",
      "metadata": {
        "colab": {
          "base_uri": "https://localhost:8080/",
          "height": 410
        },
        "execution": {
          "iopub.execute_input": "2024-04-26T15:46:19.047568Z",
          "iopub.status.busy": "2024-04-26T15:46:19.047125Z",
          "iopub.status.idle": "2024-04-26T15:46:19.436978Z",
          "shell.execute_reply": "2024-04-26T15:46:19.435842Z"
        },
        "id": "f15be119",
        "outputId": "4c8b634e-742c-4e90-d998-91f1b1f15605",
        "papermill": {
          "duration": 0.400926,
          "end_time": "2024-04-26T15:46:19.439454",
          "exception": false,
          "start_time": "2024-04-26T15:46:19.038528",
          "status": "completed"
        },
        "tags": []
      },
      "outputs": [
        {
          "data": {
            "image/png": "[encoded data removed]",
            "text/plain": [
              "<Figure size 600x400 with 1 Axes>"
            ]
          },
          "metadata": {},
          "output_type": "display_data"
        }
      ],
      "source": [
        "# Distribution Plot\n",
        "plt.figure(figsize=(6, 4))\n",
        "sns.histplot(data['FUEL CONSUMPTION'], bins=20)\n",
        "\n",
        "for rect in plt.gca().patches:\n",
        "    plt.text(rect.get_x() + rect.get_width() / 2, rect.get_height(), f'{int(rect.get_height())}', ha='center', va='bottom')\n",
        "\n",
        "plt.title('Distribution of Fuel Consumption')\n",
        "plt.xlabel('Fuel Consumption')\n",
        "plt.ylabel('Frequency')\n",
        "plt.show()"
      ]
    },
    {
      "cell_type": "code",
      "execution_count": null,
      "id": "1875da9c",
      "metadata": {
        "colab": {
          "base_uri": "https://localhost:8080/",
          "height": 975
        },
        "execution": {
          "iopub.execute_input": "2024-04-26T15:46:19.457271Z",
          "iopub.status.busy": "2024-04-26T15:46:19.456849Z",
          "iopub.status.idle": "2024-04-26T15:46:20.139791Z",
          "shell.execute_reply": "2024-04-26T15:46:20.138896Z"
        },
        "id": "1875da9c",
        "outputId": "d18b3ddc-6e98-478f-90dd-0489d7bb7809",
        "papermill": {
          "duration": 0.697392,
          "end_time": "2024-04-26T15:46:20.144507",
          "exception": false,
          "start_time": "2024-04-26T15:46:19.447115",
          "status": "completed"
        },
        "tags": []
      },
      "outputs": [
        {
          "data": {
            "image/png": "[encoded data removed]",
            "text/plain": [
              "<Figure size 1000x600 with 1 Axes>"
            ]
          },
          "metadata": {},
          "output_type": "display_data"
        },
        {
          "name": "stdout",
          "output_type": "stream",
          "text": [
            "Average Fuel Consumption by Vehicle Class:\n",
            "               VEHICLE CLASS  Avg Fuel Consumption\n",
            "0            VAN - PASSENGER                 19.09\n",
            "1                VAN - CARGO                 18.33\n",
            "2    PICKUP TRUCK - STANDARD                 17.37\n",
            "3                 TWO-SEATER                 16.85\n",
            "4                        SUV                 16.19\n",
            "5                    MINIVAN                 15.67\n",
            "6                MINICOMPACT                 14.89\n",
            "7                  FULL-SIZE                 14.55\n",
            "8       PICKUP TRUCK - SMALL                 14.23\n",
            "9                   MID-SIZE                 13.81\n",
            "10  STATION WAGON - MID-SIZE                 13.25\n",
            "11                SUBCOMPACT                 12.95\n",
            "12                   COMPACT                 12.24\n",
            "13     STATION WAGON - SMALL                 12.05\n"
          ]
        }
      ],
      "source": [
        "# Categorical Plot\n",
        "plt.figure(figsize=(10, 6))\n",
        "sns.barplot(x='VEHICLE CLASS', y='FUEL CONSUMPTION', data=data)\n",
        "plt.title('Average Fuel Consumption by Vehicle Class')\n",
        "plt.xlabel('Vehicle Class')\n",
        "plt.ylabel('Average Fuel Consumption')\n",
        "plt.xticks(rotation=45)\n",
        "plt.ylim(10, plt.gca().get_ylim()[1]) # Now 10 is the lower limit of y axis\n",
        "plt.show()\n",
        "\n",
        "average_fuel_consumption = data.groupby('VEHICLE CLASS')['FUEL CONSUMPTION'].mean().sort_values(ascending=False).reset_index()#.rename(columns={'FUEL CONSUMPTION': 'Avg Fuel Consumption'}).round(2)\n",
        "average_fuel_consumption = average_fuel_consumption.rename(columns={'FUEL CONSUMPTION': 'Avg Fuel Consumption'}).round(2)\n",
        "print(\"Average Fuel Consumption by Vehicle Class:\")\n",
        "print(average_fuel_consumption)"
      ]
    },
    {
      "cell_type": "code",
      "execution_count": null,
      "id": "72b8d1b2",
      "metadata": {
        "colab": {
          "base_uri": "https://localhost:8080/",
          "height": 564
        },
        "execution": {
          "iopub.execute_input": "2024-04-26T15:46:20.165157Z",
          "iopub.status.busy": "2024-04-26T15:46:20.164729Z",
          "iopub.status.idle": "2024-04-26T15:46:20.611475Z",
          "shell.execute_reply": "2024-04-26T15:46:20.610304Z"
        },
        "id": "72b8d1b2",
        "outputId": "6c13d4df-2471-4d5f-818a-3740c2d3cce6",
        "papermill": {
          "duration": 0.460977,
          "end_time": "2024-04-26T15:46:20.614656",
          "exception": false,
          "start_time": "2024-04-26T15:46:20.153679",
          "status": "completed"
        },
        "tags": []
      },
      "outputs": [
        {
          "ename": "NameError",
          "evalue": "name 'data' is not defined",
          "output_type": "error",
          "traceback": [
            "\u001b[1;31m---------------------------------------------------------------------------\u001b[0m",
            "\u001b[1;31mNameError\u001b[0m                                 Traceback (most recent call last)",
            "Cell \u001b[1;32mIn[5], line 4\u001b[0m\n\u001b[0;32m      1\u001b[0m \u001b[38;5;66;03m# Regression Plot\u001b[39;00m\n\u001b[0;32m      2\u001b[0m \u001b[38;5;66;03m## When you try regular scatterplot and you find see such close clustering of data points- There is a potential linear equation we can easily take advantage of, so now hypothesise a regression i.e it is to make a modeling assumption\u001b[39;00m\n\u001b[0;32m      3\u001b[0m plt\u001b[38;5;241m.\u001b[39mfigure(figsize\u001b[38;5;241m=\u001b[39m(\u001b[38;5;241m10\u001b[39m, \u001b[38;5;241m6\u001b[39m))\n\u001b[1;32m----> 4\u001b[0m sns\u001b[38;5;241m.\u001b[39mregplot(x\u001b[38;5;241m=\u001b[39m\u001b[38;5;124m'\u001b[39m\u001b[38;5;124mCOEMISSIONS\u001b[39m\u001b[38;5;124m'\u001b[39m, y\u001b[38;5;241m=\u001b[39m\u001b[38;5;124m'\u001b[39m\u001b[38;5;124mFUEL CONSUMPTION\u001b[39m\u001b[38;5;124m'\u001b[39m, data\u001b[38;5;241m=\u001b[39m\u001b[43mdata\u001b[49m)\n\u001b[0;32m      5\u001b[0m plt\u001b[38;5;241m.\u001b[39mtitle(\u001b[38;5;124m'\u001b[39m\u001b[38;5;124mRegression Plot: Engine Size vs. Fuel Consumption\u001b[39m\u001b[38;5;124m'\u001b[39m)\n\u001b[0;32m      6\u001b[0m plt\u001b[38;5;241m.\u001b[39mxlabel(\u001b[38;5;124m'\u001b[39m\u001b[38;5;124mEngine Size\u001b[39m\u001b[38;5;124m'\u001b[39m)\n",
            "\u001b[1;31mNameError\u001b[0m: name 'data' is not defined"
          ]
        },
        {
          "data": {
            "text/plain": [
              "<Figure size 1000x600 with 0 Axes>"
            ]
          },
          "metadata": {},
          "output_type": "display_data"
        }
      ],
      "source": [
        "# Regression Plot\n",
        "## When you try regular scatterplot and you find see such close clustering of data points- There is a potential linear equation we can easily take advantage of, so now hypothesise a regression i.e it is to make a modeling assumption\n",
        "plt.figure(figsize=(10, 6))\n",
        "sns.regplot(x='COEMISSIONS', y='FUEL CONSUMPTION', data=data)\n",
        "plt.title('Regression Plot: Engine Size vs. Fuel Consumption')\n",
        "plt.xlabel('Engine Size')\n",
        "plt.ylabel('Fuel Consumption')\n",
        "plt.annotate(f'R-squared = {score}', xy=(0.1, 0.9), xycoords='axes fraction', fontsize=12)\n",
        "plt.show()"
      ]
    },
    {
      "cell_type": "code",
      "execution_count": null,
      "id": "1ad8a91a",
      "metadata": {
        "colab": {
          "base_uri": "https://localhost:8080/",
          "height": 542
        },
        "execution": {
          "iopub.execute_input": "2024-04-26T15:46:20.638679Z",
          "iopub.status.busy": "2024-04-26T15:46:20.637984Z",
          "iopub.status.idle": "2024-04-26T15:46:23.502246Z",
          "shell.execute_reply": "2024-04-26T15:46:23.501083Z"
        },
        "id": "1ad8a91a",
        "outputId": "42e3810c-6ba8-4492-82e4-0b5321e4f728",
        "papermill": {
          "duration": 2.878927,
          "end_time": "2024-04-26T15:46:23.504564",
          "exception": false,
          "start_time": "2024-04-26T15:46:20.625637",
          "status": "completed"
        },
        "tags": []
      },
      "outputs": [
        {
          "ename": "ModuleNotFoundError",
          "evalue": "No module named 'plotly'",
          "output_type": "error",
          "traceback": [
            "\u001b[1;31m---------------------------------------------------------------------------\u001b[0m",
            "\u001b[1;31mModuleNotFoundError\u001b[0m                       Traceback (most recent call last)",
            "Cell \u001b[1;32mIn[1], line 2\u001b[0m\n\u001b[0;32m      1\u001b[0m \u001b[38;5;66;03m# Interactive plot\u001b[39;00m\n\u001b[1;32m----> 2\u001b[0m \u001b[38;5;28;01mimport\u001b[39;00m \u001b[38;5;21;01mplotly\u001b[39;00m\u001b[38;5;21;01m.\u001b[39;00m\u001b[38;5;21;01mexpress\u001b[39;00m \u001b[38;5;28;01mas\u001b[39;00m \u001b[38;5;21;01mpx\u001b[39;00m\n\u001b[0;32m      4\u001b[0m fig \u001b[38;5;241m=\u001b[39m px\u001b[38;5;241m.\u001b[39mscatter(data, x\u001b[38;5;241m=\u001b[39m\u001b[38;5;124m'\u001b[39m\u001b[38;5;124mFUEL CONSUMPTION\u001b[39m\u001b[38;5;124m'\u001b[39m, y\u001b[38;5;241m=\u001b[39m\u001b[38;5;124m'\u001b[39m\u001b[38;5;124mCOEMISSIONS \u001b[39m\u001b[38;5;124m'\u001b[39m, color\u001b[38;5;241m=\u001b[39m\u001b[38;5;124m'\u001b[39m\u001b[38;5;124mENGINE SIZE\u001b[39m\u001b[38;5;124m'\u001b[39m, hover_data\u001b[38;5;241m=\u001b[39m[\u001b[38;5;124m'\u001b[39m\u001b[38;5;124mMODEL\u001b[39m\u001b[38;5;124m'\u001b[39m, \u001b[38;5;124m'\u001b[39m\u001b[38;5;124mVEHICLE CLASS\u001b[39m\u001b[38;5;124m'\u001b[39m], title\u001b[38;5;241m=\u001b[39m\u001b[38;5;124m'\u001b[39m\u001b[38;5;124mFuel Consumption vs. CO2 Emissions\u001b[39m\u001b[38;5;124m'\u001b[39m)\n\u001b[0;32m      5\u001b[0m fig\u001b[38;5;241m.\u001b[39mshow()\n",
            "\u001b[1;31mModuleNotFoundError\u001b[0m: No module named 'plotly'"
          ]
        }
      ],
      "source": [
        "# Interactive plot\n",
        "import plotly.express as px\n",
        "\n",
        "fig = px.scatter(data, x='FUEL CONSUMPTION', y='COEMISSIONS ', color='ENGINE SIZE', hover_data=['MODEL', 'VEHICLE CLASS'], title='Fuel Consumption vs. CO2 Emissions')\n",
        "fig.show()"
      ]
    },
    {
      "cell_type": "code",
      "execution_count": null,
      "id": "5f87c861",
      "metadata": {
        "colab": {
          "base_uri": "https://localhost:8080/",
          "height": 581
        },
        "execution": {
          "iopub.execute_input": "2024-04-26T15:46:23.528383Z",
          "iopub.status.busy": "2024-04-26T15:46:23.527942Z",
          "iopub.status.idle": "2024-04-26T15:46:23.848583Z",
          "shell.execute_reply": "2024-04-26T15:46:23.847301Z"
        },
        "id": "5f87c861",
        "outputId": "a79dc946-be31-4124-aa82-9fdea71684b3",
        "papermill": {
          "duration": 0.335108,
          "end_time": "2024-04-26T15:46:23.851017",
          "exception": false,
          "start_time": "2024-04-26T15:46:23.515909",
          "status": "completed"
        },
        "tags": []
      },
      "outputs": [
        {
          "data": {
            "image/png": "[encoded data removed]",
            "text/plain": [
              "<Figure size 800x600 with 1 Axes>"
            ]
          },
          "metadata": {},
          "output_type": "display_data"
        },
        {
          "name": "stdout",
          "output_type": "stream",
          "text": [
            "Correlation coefficient between Fuel Consumption and CO2 Emissions: 0.9832\n"
          ]
        }
      ],
      "source": [
        "plt.figure(figsize=(8,6))\n",
        "plt.plot(df['FUEL CONSUMPTION'], label='Fuel Consumption')\n",
        "plt.plot(df['COEMISSIONS '], label='CO2 Emissions ')\n",
        "plt.title('Fuel Consumption and CO2 Emissions')\n",
        "plt.xlabel('Index')\n",
        "plt.ylabel('Value')\n",
        "plt.legend()\n",
        "plt.show()\n",
        "\n",
        "correlation = df['FUEL CONSUMPTION'].corr(df['COEMISSIONS ']).round(4)\n",
        "print(\"Correlation coefficient between Fuel Consumption and CO2 Emissions:\", correlation)"
      ]
    },
    {
      "cell_type": "code",
      "execution_count": null,
      "id": "548780cc",
      "metadata": {
        "colab": {
          "base_uri": "https://localhost:8080/",
          "height": 975
        },
        "execution": {
          "iopub.execute_input": "2024-04-26T15:46:23.876770Z",
          "iopub.status.busy": "2024-04-26T15:46:23.876335Z",
          "iopub.status.idle": "2024-04-26T15:46:24.360944Z",
          "shell.execute_reply": "2024-04-26T15:46:24.359476Z"
        },
        "id": "548780cc",
        "outputId": "a1e032bb-8e58-4bc3-d10a-691effc63e90",
        "papermill": {
          "duration": 0.500489,
          "end_time": "2024-04-26T15:46:24.363613",
          "exception": false,
          "start_time": "2024-04-26T15:46:23.863124",
          "status": "completed"
        },
        "tags": []
      },
      "outputs": [
        {
          "data": {
            "image/png": "[encoded data removed]",
            "text/plain": [
              "<Figure size 1000x600 with 1 Axes>"
            ]
          },
          "metadata": {},
          "output_type": "display_data"
        },
        {
          "name": "stdout",
          "output_type": "stream",
          "text": [
            "                          max  min  median        std\n",
            "VEHICLE CLASS                                        \n",
            "COMPACT                   375  165   248.0  36.422146\n",
            "FULL-SIZE                 373  251   283.0  24.850984\n",
            "MID-SIZE                  331  219   269.0  25.123162\n",
            "MINICOMPACT               324  260   304.0  22.680789\n",
            "MINIVAN                   375  281   298.0  22.995652\n",
            "PICKUP TRUCK - SMALL      322  246   278.0  31.246818\n",
            "PICKUP TRUCK - STANDARD   444  253   354.0  38.250026\n",
            "STATION WAGON - MID-SIZE  306  216   267.0  22.365748\n",
            "STATION WAGON - SMALL     320  196   239.0  36.913447\n",
            "SUBCOMPACT                582  104   244.0  77.086760\n",
            "SUV                       458  228   343.0  60.082763\n",
            "TWO-SEATER                474  246   299.0  82.541841\n",
            "VAN - CARGO               423  304   373.0  30.557275\n",
            "VAN - PASSENGER           444  359   384.0  25.132004\n"
          ]
        }
      ],
      "source": [
        "# Comparative Analysis\n",
        "# Box Plot\n",
        "plt.figure(figsize=(10, 6))\n",
        "sns.boxplot(x='VEHICLE CLASS', y='COEMISSIONS ', data=data)\n",
        "plt.title('Comparison of CO2 Emissions by Vehicle Class')\n",
        "plt.xlabel('Vehicle Class')\n",
        "plt.ylabel('CO2 Emissions')\n",
        "plt.xticks(rotation=45)\n",
        "plt.show()\n",
        "\n",
        "co2_stats = data.groupby('VEHICLE CLASS')['COEMISSIONS '].agg(['max', 'min', 'median', 'std'])\n",
        "print(co2_stats)"
      ]
    },
    {
      "cell_type": "code",
      "execution_count": null,
      "id": "2b41fa3a",
      "metadata": {
        "colab": {
          "base_uri": "https://localhost:8080/",
          "height": 646
        },
        "execution": {
          "iopub.execute_input": "2024-04-26T15:46:24.392626Z",
          "iopub.status.busy": "2024-04-26T15:46:24.392192Z",
          "iopub.status.idle": "2024-04-26T15:46:24.739778Z",
          "shell.execute_reply": "2024-04-26T15:46:24.738344Z"
        },
        "id": "2b41fa3a",
        "outputId": "e7be8084-4159-4990-a706-121838e39cc5",
        "papermill": {
          "duration": 0.364753,
          "end_time": "2024-04-26T15:46:24.742181",
          "exception": false,
          "start_time": "2024-04-26T15:46:24.377428",
          "status": "completed"
        },
        "tags": []
      },
      "outputs": [
        {
          "data": {
            "image/png": "[encoded data removed]",
            "text/plain": [
              "<Figure size 640x480 with 1 Axes>"
            ]
          },
          "metadata": {},
          "output_type": "display_data"
        },
        {
          "name": "stdout",
          "output_type": "stream",
          "text": [
            "               Max   Min  Median  Std Deviation\n",
            "TRANSMISSION                                   \n",
            "A3            18.3   9.1   11.80       3.849444\n",
            "A4            26.7   8.1   14.80       3.236677\n",
            "A5            20.1  12.0   15.20       1.509772\n",
            "AS4           16.4  11.6   14.55       1.336209\n",
            "AS5           16.0  13.7   15.90       0.983362\n",
            "AS6           24.6  24.6   24.60            NaN\n",
            "M5            22.1   4.9   12.70       3.059221\n",
            "M6            30.2  11.5   15.40       5.138855\n"
          ]
        }
      ],
      "source": [
        "# Box Plot: Fuel Consumption by Vehicle Class\n",
        "sns.boxplot(\n",
        "    x = \"TRANSMISSION\",\n",
        "    y = \"FUEL CONSUMPTION\",\n",
        "    showmeans=True,  # Show mean values as well\n",
        "    data=df\n",
        ")\n",
        "plt.xlabel('Vehicle Class')\n",
        "plt.ylabel('Fuel Consumption')\n",
        "plt.title('Fuel Consumption Distribution by Vehicle Class')\n",
        "plt.show()\n",
        "\n",
        "\n",
        "# Calculate statistics for fuel consumption grouped by transmission type\n",
        "fuel_consumption_stats = df.groupby('TRANSMISSION')['FUEL CONSUMPTION'].agg(['max', 'min', 'median', 'std'])\n",
        "\n",
        "# Renaming\n",
        "fuel_consumption_stats = fuel_consumption_stats.rename(columns={'max': 'Max', 'min': 'Min', 'median': 'Median', 'std': 'Std Deviation'})\n",
        "\n",
        "print(fuel_consumption_stats)"
      ]
    },
    {
      "cell_type": "code",
      "execution_count": null,
      "id": "72076db8",
      "metadata": {
        "id": "72076db8",
        "papermill": {
          "duration": 0.014146,
          "end_time": "2024-04-26T15:46:24.769958",
          "exception": false,
          "start_time": "2024-04-26T15:46:24.755812",
          "status": "completed"
        },
        "tags": []
      },
      "outputs": [],
      "source": []
    },
    {
      "cell_type": "markdown",
      "id": "2224f1a9",
      "metadata": {
        "id": "2224f1a9",
        "papermill": {
          "duration": 0.01341,
          "end_time": "2024-04-26T15:46:24.797610",
          "exception": false,
          "start_time": "2024-04-26T15:46:24.784200",
          "status": "completed"
        },
        "tags": []
      },
      "source": [
        "# 'Top charts'"
      ]
    },
    {
      "cell_type": "code",
      "execution_count": null,
      "id": "c3d4dae8",
      "metadata": {
        "colab": {
          "base_uri": "https://localhost:8080/"
        },
        "execution": {
          "iopub.execute_input": "2024-04-26T15:46:24.827014Z",
          "iopub.status.busy": "2024-04-26T15:46:24.826615Z",
          "iopub.status.idle": "2024-04-26T15:46:24.836790Z",
          "shell.execute_reply": "2024-04-26T15:46:24.835705Z"
        },
        "id": "c3d4dae8",
        "outputId": "4a116f9b-54f7-4088-f9b3-44add88d9d9c",
        "papermill": {
          "duration": 0.027762,
          "end_time": "2024-04-26T15:46:24.838955",
          "exception": false,
          "start_time": "2024-04-26T15:46:24.811193",
          "status": "completed"
        },
        "tags": []
      },
      "outputs": [
        {
          "name": "stdout",
          "output_type": "stream",
          "text": [
            "Make with highest average fuel consumption is 'FERRARI' with an average fuel consumption of 26.41 litres/100km.\n"
          ]
        }
      ],
      "source": [
        "# Average fuel consumption for each make\n",
        "average_fuel_consumption = data.groupby('MAKE')['FUEL CONSUMPTION'].mean()\n",
        "\n",
        "# Make with the highest average fuel consumption & its corresponding value\n",
        "highest_fuel_consumption_make = average_fuel_consumption.idxmax()\n",
        "highest_fuel_consumption = average_fuel_consumption.max()\n",
        "\n",
        "print(f\"Make with highest average fuel consumption is '{highest_fuel_consumption_make}' with an average fuel consumption of {highest_fuel_consumption:.2f} litres/100km.\")"
      ]
    },
    {
      "cell_type": "code",
      "execution_count": null,
      "id": "7c666598",
      "metadata": {
        "colab": {
          "base_uri": "https://localhost:8080/"
        },
        "execution": {
          "iopub.execute_input": "2024-04-26T15:46:24.868767Z",
          "iopub.status.busy": "2024-04-26T15:46:24.868072Z",
          "iopub.status.idle": "2024-04-26T15:46:24.877917Z",
          "shell.execute_reply": "2024-04-26T15:46:24.876561Z"
        },
        "id": "7c666598",
        "outputId": "f518e0c5-707a-40a4-ee67-2748a06a06f5",
        "papermill": {
          "duration": 0.027736,
          "end_time": "2024-04-26T15:46:24.880288",
          "exception": false,
          "start_time": "2024-04-26T15:46:24.852552",
          "status": "completed"
        },
        "tags": []
      },
      "outputs": [
        {
          "name": "stdout",
          "output_type": "stream",
          "text": [
            "Top 3 models with highest average fuel consumption are:\n",
            "\n",
            "1. 550 MARANELLO, with an average fuel consumption of 30.20 litres/100km\n",
            "2. 456 MGT, with an average fuel consumption of 26.50 litres/100km\n",
            "3. 456 MGTA, with an average fuel consumption of 26.50 litres/100km\n"
          ]
        }
      ],
      "source": [
        "# Average fuel consumption for each model\n",
        "average_fuel_consumption = data.groupby('MODEL')['FUEL CONSUMPTION'].mean()\n",
        "\n",
        "# Highest 3 models average fuel consumption\n",
        "top_3_models = average_fuel_consumption.sort_values(ascending=False).head(3)\n",
        "\n",
        "print(\"Top 3 models with highest average fuel consumption are:\\n\")\n",
        "for i, (model, fuel_consumption) in enumerate(top_3_models.items(), start=1):\n",
        "    print(f\"{i}. {model}, with an average fuel consumption of {fuel_consumption:.2f} litres/100km\")"
      ]
    },
    {
      "cell_type": "code",
      "execution_count": null,
      "id": "6dbd8259",
      "metadata": {
        "id": "6dbd8259",
        "papermill": {
          "duration": 0.013657,
          "end_time": "2024-04-26T15:46:24.907692",
          "exception": false,
          "start_time": "2024-04-26T15:46:24.894035",
          "status": "completed"
        },
        "tags": []
      },
      "outputs": [],
      "source": []
    }
  ],
  "metadata": {
    "colab": {
      "provenance": []
    },
    "kaggle": {
      "accelerator": "none",
      "dataSources": [
        {
          "datasetId": 4673926,
          "sourceId": 7948231,
          "sourceType": "datasetVersion"
        }
      ],
      "dockerImageVersionId": 30698,
      "isGpuEnabled": false,
      "isInternetEnabled": true,
      "language": "python",
      "sourceType": "notebook"
    },
    "kernelspec": {
      "display_name": "Python 3",
      "language": "python",
      "name": "python3"
    },
    "language_info": {
      "codemirror_mode": {
        "name": "ipython",
        "version": 3
      },
      "file_extension": ".py",
      "mimetype": "text/x-python",
      "name": "python",
      "nbconvert_exporter": "python",
      "pygments_lexer": "ipython3",
      "version": "3.11.9"
    },
    "papermill": {
      "default_parameters": {},
      "duration": 13.447369,
      "end_time": "2024-04-26T15:46:25.943566",
      "environment_variables": {},
      "exception": null,
      "input_path": "__notebook__.ipynb",
      "output_path": "__notebook__.ipynb",
      "parameters": {},
      "start_time": "2024-04-26T15:46:12.496197",
      "version": "2.5.0"
    }
  },
  "nbformat": 4,
  "nbformat_minor": 5
}
